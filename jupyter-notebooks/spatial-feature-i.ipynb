{
  "cells": [
    {
      "cell_type": "markdown",
      "metadata": {},
      "source": [
        "---\n",
        "format:\n",
        "  html:\n",
        "    code-fold: false\n",
        "jupyter: python3\n",
        "---\n",
        "\n",
        "# Spatial feature engineering (part I) {#sec-spatial-feature-i}\n",
        "\n",
        "Feature Engineering is a common term in machine learning that refers to the processes and transformations involved in turning data from the state in which the modeler access them into what is then fed to a model. This can take several forms, from standardisation of the input data, to the derivation of numeric scores that better describe aspects (*features*) of the data we are using.\n",
        "\n",
        "*Spatial* Feature Engineering refers to operations we can use to derive \"views\" or summaries of our data that we can use in models, using space as the key medium to create them.\n",
        "\n",
        "There is only one reading to complete for this block: this [Chapter](https://geographicdata.science/book/notebooks/12_feature_engineering.html) of the GDS Book [@reyABwolf].\n",
        "\n",
        "## Packages and modules"
      ]
    },
    {
      "cell_type": "code",
      "metadata": {},
      "source": [
        "import pandas\n",
        "import geopandas\n",
        "import xarray, rioxarray\n",
        "import contextily\n",
        "import numpy as np\n",
        "import matplotlib.pyplot as plt"
      ],
      "execution_count": null,
      "outputs": []
    },
    {
      "cell_type": "markdown",
      "metadata": {},
      "source": [
        "## Data\n",
        "\n",
        "If you want to read more about the data sources behind this dataset, head to the [Datasets](./data/datasets) section.\n",
        "\n",
        "Assuming you have the file locally on the path `../data/`:"
      ]
    },
    {
      "cell_type": "code",
      "metadata": {},
      "source": [
        "regions = geopandas.read_file(\"../data/cambodia_regional.gpkg\")\n",
        "cities = geopandas.read_file(\"../data/cambodian_cities.geojson\")\n",
        "pollution = rioxarray.open_rasterio(\n",
        "    \"../data/cambodia_s5_no2.tif\"\n",
        ").sel(band=1)\n",
        "friction = rioxarray.open_rasterio(\n",
        "    \"../data/cambodia_2020_motorized_friction_surface.tif\"\n",
        ").sel(band=1)"
      ],
      "execution_count": null,
      "outputs": []
    },
    {
      "cell_type": "markdown",
      "metadata": {},
      "source": [
        "Check both geo-tables and the surface are in the same CRS:"
      ]
    },
    {
      "cell_type": "code",
      "metadata": {},
      "source": [
        "(\n",
        "    regions.crs.to_epsg() ==\n",
        "    cities.crs.to_epsg() ==\n",
        "    pollution.rio.crs.to_epsg()\n",
        ")"
      ],
      "execution_count": null,
      "outputs": []
    },
    {
      "cell_type": "markdown",
      "metadata": {},
      "source": [
        "## Polygons to points\n",
        "\n",
        "In which region is a city?"
      ]
    },
    {
      "cell_type": "code",
      "metadata": {},
      "source": [
        "sj = geopandas.sjoin(cities, regions)"
      ],
      "execution_count": null,
      "outputs": []
    },
    {
      "cell_type": "code",
      "metadata": {},
      "source": [
        "#   City name | Region name\n",
        "sj[[\"UC_NM_MN\", \"adm2_name\"]]"
      ],
      "execution_count": null,
      "outputs": []
    },
    {
      "cell_type": "markdown",
      "metadata": {},
      "source": [
        "::: callout-note\n",
        "**Challenge:** Using the Madrid AirBnb properties and neighbourhoods datasets, can you determine the neighbourhood group of the first ten properties?\n",
        ":::\n",
        "\n",
        "## Points to polygons\n",
        "\n",
        "If we were after the number of cities per region, it is a similar approach, with a (`groupby`) twist at the end.\n",
        "\n",
        "1.  We `set_index` to align both tables\n",
        "2.  We `assign` to create a new column\n",
        "\n",
        "If you want no missing values, you can `fillna(0)` since you know missing data are zeros."
      ]
    },
    {
      "cell_type": "code",
      "metadata": {},
      "source": [
        "regions.set_index(\n",
        "    \"adm2_name\"\n",
        ").assign(\n",
        "    city_count=sj.groupby(\"adm2_name\").size()\n",
        ").info()"
      ],
      "execution_count": null,
      "outputs": []
    },
    {
      "cell_type": "markdown",
      "metadata": {},
      "source": [
        "::: callout-note\n",
        "**Challenge:** Using the Madrid AirBnb [properties](data_abb), can you compute how many properties each neighbourhood group has?\n",
        ":::\n",
        "\n",
        "## Surface to points\n",
        "\n",
        "Consider attaching to each city in `cities` the pollution level, as expressed in `pollution`.\n",
        "\n",
        "The code for generating the next figure is a bit more advanced as it fiddles with text, but if you want to explore it you can look at the code cell below."
      ]
    },
    {
      "cell_type": "code",
      "metadata": {},
      "source": [
        "f, ax = plt.subplots(1, figsize=(9, 9))\n",
        "\n",
        "pollution.where(\n",
        "    pollution>0\n",
        ").plot(\n",
        "    ax=ax, add_colorbar=False\n",
        ")\n",
        "\n",
        "for i, row in cities.iterrows():\n",
        "    plt.text(\n",
        "        row.geometry.x,\n",
        "        row.geometry.y,\n",
        "        row[\"UC_NM_MN\"],\n",
        "        fontdict={\"color\": \"white\"},\n",
        "    )\n",
        "    \n",
        "cities.plot(ax=ax, color=\"r\")\n",
        "\n",
        "plt.show()"
      ],
      "execution_count": null,
      "outputs": []
    },
    {
      "cell_type": "code",
      "metadata": {},
      "source": [
        "from rasterstats import point_query\n",
        "\n",
        "city_pollution = point_query(\n",
        "    cities,\n",
        "    pollution.values,\n",
        "    affine=pollution.rio.transform(),\n",
        "    nodata=pollution.rio.nodata\n",
        ")\n",
        "city_pollution"
      ],
      "execution_count": null,
      "outputs": []
    },
    {
      "cell_type": "markdown",
      "metadata": {},
      "source": [
        "And we can map these on the city locations:"
      ]
    },
    {
      "cell_type": "code",
      "metadata": {},
      "source": [
        "fig, ax = plt.subplots()\n",
        "\n",
        "cities.assign(\n",
        "    pollution=city_pollution\n",
        ").plot(\n",
        "    \"pollution\", \n",
        "    cmap=\"YlOrRd\",\n",
        "    legend=True,\n",
        "    ax=ax\n",
        ")\n",
        "\n",
        "contextily.add_basemap(\n",
        "    ax,\n",
        "    crs=cities.crs,\n",
        "    source=contextily.providers.CartoDB.VoyagerOnlyLabels\n",
        ")\n",
        "\n",
        "plt.show()"
      ],
      "execution_count": null,
      "outputs": []
    },
    {
      "cell_type": "markdown",
      "metadata": {},
      "source": [
        "::: callout-note\n",
        "**Challenge:** Can you calculate the pollution level at the centroid of each Cambodian region in the regional aggregates dataset? how does it compare to their average value?\n",
        ":::\n",
        "\n",
        "## Surface to polygons\n",
        "\n",
        "Instead of transferring to points, we want to aggregate all the information in a surface that falls within a polygon.\n",
        "\n",
        "For this case, we will use the motorised friction surface. The question we are asking thus is: what is the average degree of friction of each region? Or, in other words: what regions are harder to get through with motorised transport?"
      ]
    },
    {
      "cell_type": "code",
      "metadata": {},
      "source": [
        "fig, ax = plt.subplots(1, figsize=(9, 9))\n",
        "friction.plot.imshow(\n",
        "    add_colorbar=False, ax=ax\n",
        ")\n",
        "regions.plot(\n",
        "    ax=ax, edgecolor=\"red\", facecolor=\"none\"\n",
        ")\n",
        "contextily.add_basemap(\n",
        "    ax, \n",
        "    crs=regions.crs,\n",
        "    source=contextily.providers.CartoDB.DarkMatterOnlyLabels,\n",
        "    zoom=7\n",
        ")\n",
        "\n",
        "plt.show()"
      ],
      "execution_count": null,
      "outputs": []
    },
    {
      "cell_type": "markdown",
      "metadata": {},
      "source": [
        "Again, we can rely on `rasterstats`. The output is returned from `zonal_stats` as a list of dicts. To make it more manageable, we convert it into a `pandas.DataFrame`."
      ]
    },
    {
      "cell_type": "code",
      "metadata": {},
      "source": [
        "from rasterstats import zonal_stats\n",
        "\n",
        "regional_friction = pandas.DataFrame(\n",
        "    zonal_stats(\n",
        "        regions,\n",
        "        friction.values,\n",
        "        affine=friction.rio.transform(),\n",
        "        nodata=friction.rio.nodata\n",
        "    ),\n",
        "    index=regions.index\n",
        ")\n",
        "regional_friction.head()"
      ],
      "execution_count": null,
      "outputs": []
    },
    {
      "cell_type": "markdown",
      "metadata": {},
      "source": [
        "This can then also be mapped onto the polygon geography:"
      ]
    },
    {
      "cell_type": "code",
      "metadata": {},
      "source": [
        "fig, ax = plt.subplots(1, figsize=(9, 9))\n",
        "regions.to_crs(\n",
        "    epsg=3857\n",
        ").join(\n",
        "    regional_friction\n",
        ").plot(\n",
        "    \"mean\", scheme=\"quantiles\", ax=ax\n",
        ")\n",
        "contextily.add_basemap(\n",
        "    ax, \n",
        "    source=contextily.providers.CartoDB.VoyagerOnlyLabels,\n",
        "    zoom=7\n",
        ")\n",
        "\n",
        "plt.show()"
      ],
      "execution_count": null,
      "outputs": []
    },
    {
      "cell_type": "markdown",
      "metadata": {},
      "source": [
        "::: callout-note\n",
        "**Challenge:** Replicate the analysis above to obtain the average friction for each region using the walking surface (`cambodia_2020_walking_friction_surface.tif`).\n",
        ":::\n",
        "\n",
        "## Surface to surface\n",
        "\n",
        "If we want to align the `pollution` surface with that of `friction`, we need to resample them to make them \"fit on the same frame\"."
      ]
    },
    {
      "cell_type": "code",
      "metadata": {},
      "source": [
        "pollution.shape"
      ],
      "execution_count": null,
      "outputs": []
    },
    {
      "cell_type": "code",
      "metadata": {},
      "source": [
        "friction.shape"
      ],
      "execution_count": null,
      "outputs": []
    },
    {
      "cell_type": "markdown",
      "metadata": {},
      "source": [
        "This involves either moving one surface to the frame of the other one, or both into an entirely new one. For the sake of the illustration, we will do the latter and select a frame that is 300 by 400 pixels. Note this involves stretching (upsampling) `pollution`, while compressing (downsampling) `friction`."
      ]
    },
    {
      "cell_type": "code",
      "metadata": {},
      "source": [
        "# Define dimensions\n",
        "dimX, dimY = 300, 400\n",
        "minx, miny, maxx, maxy = pollution.rio.bounds()\n",
        "# Create XY indices\n",
        "ys = np.linspace(miny, maxy, dimY)\n",
        "xs = np.linspace(minx, maxx, dimX)\n",
        "# Set up placeholder array\n",
        "canvas = xarray.DataArray(\n",
        "    np.zeros((dimY, dimX)),\n",
        "    coords=[ys, xs],\n",
        "    dims=[\"y\", \"x\"]\n",
        ").rio.write_crs(4326) # Add CRS"
      ],
      "execution_count": null,
      "outputs": []
    },
    {
      "cell_type": "code",
      "metadata": {},
      "source": [
        "cvs_pollution = pollution.rio.reproject_match(canvas)\n",
        "cvs_friction = friction.rio.reproject_match(canvas)"
      ],
      "execution_count": null,
      "outputs": []
    },
    {
      "cell_type": "code",
      "metadata": {},
      "source": [
        "cvs_pollution.shape"
      ],
      "execution_count": null,
      "outputs": []
    },
    {
      "cell_type": "code",
      "metadata": {},
      "source": [
        "cvs_pollution.shape == cvs_friction.shape"
      ],
      "execution_count": null,
      "outputs": []
    },
    {
      "cell_type": "markdown",
      "metadata": {},
      "source": [
        "::: callout-note\n",
        "**Challenge:** Trasfer the `pollution` surface to the frame of `friction`, and viceversa,\n",
        ":::\n",
        "\n",
        "------------------------------------------------------------------------\n",
        "\n",
        "::: callout-caution\n",
        "The following methods involve modelling and are thus more sophisticated. Take these as a conceptual introduction with an empirical illustration, but keep in mind there are extense literatures on each of them and these cover some of the simplest cases.\n",
        ":::\n",
        "\n",
        "## Points to points\n",
        "\n",
        "See [this section](https://geographicdata.science/book/notebooks/12_feature_engineering.html#point-interpolation-using-sklearn) of the GDS Book [@reyABwolf] for more details on the technique.\n",
        "\n",
        "For this exampe, we will assume that, instead of a surface with pollution values, we only have available a sample of points and we would like to obtain estimates for other locations.\n",
        "\n",
        "For that we will first generate 100 random points within the extent of `pollution` which we will take as the location of our measurement stations.\n",
        "\n",
        "The code in this cell contains bits that are a bit more advanced, do not despair if not everything makes sense!"
      ]
    },
    {
      "cell_type": "code",
      "metadata": {},
      "source": [
        "np.random.seed(123456)\n",
        "\n",
        "bb = pollution.rio.bounds()\n",
        "station_xs = np.random.uniform(bb[0], bb[2], 100)\n",
        "station_ys = np.random.uniform(bb[1], bb[3], 100)\n",
        "stations = geopandas.GeoSeries(\n",
        "    geopandas.points_from_xy(station_xs, station_ys),\n",
        "    crs=\"EPSG:4326\"\n",
        ")"
      ],
      "execution_count": null,
      "outputs": []
    },
    {
      "cell_type": "markdown",
      "metadata": {},
      "source": [
        "Our station values come from the `pollution` surface, but we assume we do not have access to the latter, and we would like to obtain estimates for the location of the cities:"
      ]
    },
    {
      "cell_type": "code",
      "metadata": {},
      "source": [
        "fig, ax = plt.subplots(1, figsize=(6, 6))\n",
        "\n",
        "pollution.where(\n",
        "    pollution>0\n",
        ").plot(\n",
        "    add_colorbar=False, cmap=\"Blues\", ax=ax\n",
        ")\n",
        "\n",
        "stations.plot(ax=ax, color=\"red\", label=\"Stations\")\n",
        "cities.plot(ax=ax, color=\"lime\", label=\"Cities\")\n",
        "\n",
        "ax.set_title(\"Pollution sampling\")\n",
        "\n",
        "plt.legend()\n",
        "\n",
        "plt.show()"
      ],
      "execution_count": null,
      "outputs": []
    },
    {
      "cell_type": "markdown",
      "metadata": {},
      "source": [
        "We will need the location and the pollution measurements for every station as separate arrays. Before we do that, since we will be calculating distances, we convert our coordinates to [a system](http://epsg.io/5726) expressed in metres."
      ]
    },
    {
      "cell_type": "code",
      "metadata": {},
      "source": [
        "stations_mt = stations.to_crs(epsg=5726)\n",
        "station_xys = np.array(\n",
        "    [stations_mt.geometry.x, stations_mt.geometry.y]\n",
        ").T"
      ],
      "execution_count": null,
      "outputs": []
    },
    {
      "cell_type": "markdown",
      "metadata": {},
      "source": [
        "We also need to extract the pollution measurements for each station location:"
      ]
    },
    {
      "cell_type": "code",
      "metadata": {},
      "source": [
        "station_measurements = np.array(\n",
        "    point_query(\n",
        "        stations,\n",
        "        pollution.values,\n",
        "        affine=pollution.rio.transform(),\n",
        "        nodata=pollution.rio.nodata\n",
        "    )\n",
        ")"
      ],
      "execution_count": null,
      "outputs": []
    },
    {
      "cell_type": "markdown",
      "metadata": {},
      "source": [
        "And finally, we will also need the locations of each city expressed in the same coordinate system:"
      ]
    },
    {
      "cell_type": "code",
      "metadata": {},
      "source": [
        "cities_mt = cities.to_crs(epsg=5726)\n",
        "city_xys = np.array(\n",
        "    [cities_mt.geometry.x, cities_mt.geometry.y]\n",
        ").T"
      ],
      "execution_count": null,
      "outputs": []
    },
    {
      "cell_type": "markdown",
      "metadata": {},
      "source": [
        "For this illustration, we will use a $k$-nearest neighbors regression that estimates the value for each target point (`cities` in our case) as the average weighted by distance of its $k$ nearest neigbours. In this illustration we will use $k=10$.\n",
        "\n",
        "Note how `sklearn` relies only on array data structures, hence why we first had to express all the required information in that format."
      ]
    },
    {
      "cell_type": "code",
      "metadata": {},
      "source": [
        "from sklearn.neighbors import KNeighborsRegressor\n",
        "\n",
        "model = KNeighborsRegressor(\n",
        "    n_neighbors=10, weights=\"distance\"\n",
        ").fit(station_xys, station_measurements)"
      ],
      "execution_count": null,
      "outputs": []
    },
    {
      "cell_type": "markdown",
      "metadata": {},
      "source": [
        "Once we have trained the model, we can use it to obtain predictions for each city location:"
      ]
    },
    {
      "cell_type": "code",
      "metadata": {},
      "source": [
        "predictions = model.predict(city_xys)"
      ],
      "execution_count": null,
      "outputs": []
    },
    {
      "cell_type": "markdown",
      "metadata": {},
      "source": [
        "These can be compared with the originally observed values:"
      ]
    },
    {
      "cell_type": "code",
      "metadata": {},
      "source": [
        "p2p_comparison = pandas.DataFrame(\n",
        "    {\n",
        "        \"Observed\": city_pollution,\n",
        "        \"Predicted\": predictions\n",
        "    },\n",
        "    index=cities[\"UC_NM_MN\"]\n",
        ")"
      ],
      "execution_count": null,
      "outputs": []
    },
    {
      "cell_type": "code",
      "metadata": {},
      "source": [
        "fig, ax = plt.subplots(1)\n",
        "p2p_comparison[\"Observed\"].plot.kde(ax=ax)\n",
        "p2p_comparison[\"Predicted\"].plot.kde(ax=ax)\n",
        "ax.set_axis_off()\n",
        "plt.legend(frameon=False, fontsize=20)\n",
        "plt.show()"
      ],
      "execution_count": null,
      "outputs": []
    },
    {
      "cell_type": "code",
      "metadata": {},
      "source": [
        "p2p_comparison"
      ],
      "execution_count": null,
      "outputs": []
    },
    {
      "cell_type": "markdown",
      "metadata": {},
      "source": [
        "::: callout-note\n",
        "**Challenge:** Replicate the analysis above with $k=15$ and $k=5$. *Do results change? Why do you think that is?*\n",
        ":::\n",
        "\n",
        "## Points to surface\n",
        "\n",
        "Imagine we do not have a surface like `pollution` but we need it. In this context, if you have measurements from some locations, such as in `stations`, we can use the approach reviewed above to generate a surface. The trick to do this is to realise that we can generate a *uniform* grid of target locations that we can then express as a surface.\n",
        "\n",
        "We will set as our target locations those of the pixels in the target surface we have seen above:"
      ]
    },
    {
      "cell_type": "code",
      "metadata": {},
      "source": [
        "canvas_mt = canvas.rio.reproject(5726)"
      ],
      "execution_count": null,
      "outputs": []
    },
    {
      "cell_type": "code",
      "metadata": {},
      "source": [
        "xy_pairs = canvas_mt.to_series().index\n",
        "xys = np.array(\n",
        "    [\n",
        "        xy_pairs.get_level_values(\"x\"),\n",
        "        xy_pairs.get_level_values(\"y\")\n",
        "    ]\n",
        ").T"
      ],
      "execution_count": null,
      "outputs": []
    },
    {
      "cell_type": "markdown",
      "metadata": {},
      "source": [
        "To obtain pollution estimates at each location, we can `predict` with `model`:"
      ]
    },
    {
      "cell_type": "code",
      "metadata": {},
      "source": [
        "predictions_grid = model.predict(xys)"
      ],
      "execution_count": null,
      "outputs": []
    },
    {
      "cell_type": "markdown",
      "metadata": {},
      "source": [
        "And with these at hand, we can convert them into a surface:"
      ]
    },
    {
      "cell_type": "code",
      "metadata": {},
      "source": [
        "predictions_series = pandas.DataFrame(\n",
        "    {\"predictions_grid\": predictions_grid}\n",
        ").join(\n",
        "    pandas.DataFrame(xys, columns=[\"x\", \"y\"])\n",
        ").set_index([\"y\", \"x\"])\n",
        "\n",
        "predictions_surface = xarray.DataArray().from_series(\n",
        "    predictions_series[\"predictions_grid\"]\n",
        ").rio.write_crs(canvas_mt.rio.crs)"
      ],
      "execution_count": null,
      "outputs": []
    },
    {
      "cell_type": "code",
      "metadata": {},
      "source": [
        "f, axs = plt.subplots(1, 2, figsize=(16, 6))\n",
        "\n",
        "cvs_pollution.where(\n",
        "    cvs_pollution>0\n",
        ").plot(ax=axs[0])\n",
        "axs[0].set_title(\"Observed\")\n",
        "\n",
        "predictions_surface.where(\n",
        "    predictions_surface>0\n",
        ").rio.reproject_match(\n",
        "    cvs_pollution\n",
        ").plot(ax=axs[1])\n",
        "axs[1].set_title(\"Predicted\")\n",
        "\n",
        "plt.show()"
      ],
      "execution_count": null,
      "outputs": []
    },
    {
      "cell_type": "code",
      "metadata": {},
      "source": [
        "f, ax = plt.subplots(1, figsize=(9, 4))\n",
        "cvs_pollution.where(\n",
        "    cvs_pollution>0\n",
        ").plot.hist(\n",
        "    bins=100, alpha=0.5, ax=ax, label=\"Observed\"\n",
        ")\n",
        "predictions_surface.rio.reproject_match(\n",
        "    cvs_pollution\n",
        ").plot.hist(\n",
        "    bins=100, alpha=0.5, ax=ax, color=\"g\", label=\"predicted\"\n",
        ")\n",
        "plt.legend()\n",
        "plt.show()"
      ],
      "execution_count": null,
      "outputs": []
    },
    {
      "cell_type": "markdown",
      "metadata": {},
      "source": [
        "Room for improvement but, remember this was a rough first pass!\n",
        "\n",
        "::: callout-note\n",
        "**Challenge:** Train a model with pollution measurements from each city location and generate a surface from it. *How does the output compare to the one above? Why do you think that is?*\n",
        ":::\n",
        "\n",
        "## Polygons to polygons\n",
        "\n",
        "In this final example, we transfer data from a polygon geography to *another* polygon geography. Effectively, we re-apportion values from one set of areas to another based on the extent of shared area.\n",
        "\n",
        "Our illustration will cover how to move pollution estimates from `regions` into a uniform hexagonal grid we will first create."
      ]
    },
    {
      "cell_type": "code",
      "metadata": {},
      "source": [
        "import tobler\n",
        "\n",
        "hex_grid = tobler.util.h3fy(\n",
        "    regions, resolution=5\n",
        ")"
      ],
      "execution_count": null,
      "outputs": []
    },
    {
      "cell_type": "markdown",
      "metadata": {},
      "source": [
        "Not that pollution is expressed as an intesive (rate) variable. We need to recognise this when specifying the interpolation model:"
      ]
    },
    {
      "cell_type": "code",
      "metadata": {},
      "source": [
        "pollution_hex = tobler.area_weighted.area_interpolate(\n",
        "    regions.assign(geometry=regions.buffer(0)).to_crs(epsg=5726),\n",
        "    hex_grid.to_crs(epsg=5726), \n",
        "    intensive_variables=[\"no2_mean\"]\n",
        ")"
      ],
      "execution_count": null,
      "outputs": []
    },
    {
      "cell_type": "markdown",
      "metadata": {},
      "source": [
        "And the results look like:"
      ]
    },
    {
      "cell_type": "code",
      "metadata": {},
      "source": [
        "f, axs = plt.subplots(1, 3, figsize=(12, 4))\n",
        "\n",
        "regions.plot(\n",
        "    \"no2_mean\", scheme=\"quantiles\", k=12, ax=axs[0]\n",
        ")\n",
        "axs[0].set_axis_off()\n",
        "\n",
        "hex_grid.plot(\n",
        "    facecolor=\"none\", edgecolor=\"red\", ax=axs[1]\n",
        ")\n",
        "axs[1].set_axis_off()\n",
        "\n",
        "pollution_hex.to_crs(epsg=4326).plot(\n",
        "    \"no2_mean\", scheme=\"quantiles\", k=12, ax=axs[2]\n",
        ")\n",
        "axs[2].set_axis_off()\n",
        "\n",
        "plt.show()"
      ],
      "execution_count": null,
      "outputs": []
    },
    {
      "cell_type": "markdown",
      "metadata": {},
      "source": [
        "::: callout-note\n",
        "**Challenge:** Replicate the analytis using `resolution = 4`. *How is the result different? Why?*\n",
        ":::\n",
        "\n",
        "## Next steps\n",
        "\n",
        "If you are interested in learning more about spatial feature engineering through map matching, the following pointers might be useful to delve deeper into specific types of \"data transfer\":\n",
        "\n",
        "-   The [`datashader`](https://datashader.org) library is a great option to transfer geo-tables into surfaces, providing tooling to perform these operations in a highly efficient and performant way.\n",
        "-   When aggregating surfaces into geo-tables, the library [`rasterstats`](https://pythonhosted.org/rasterstats/) contains most if not all of the machinery you will need.\n",
        "-   For transfers from polygon to polygon geographies, [`tobler`](https://pysal.org/tobler/) is your friend. Its official documentation contains examples for different use cases."
      ]
    }
  ],
  "metadata": {
    "kernelspec": {
      "name": "python3",
      "language": "python",
      "display_name": "Python 3 (ipykernel)",
      "path": "/Users/carmen/anaconda3/envs/geo-env-new/share/jupyter/kernels/python3"
    }
  },
  "nbformat": 4,
  "nbformat_minor": 4
}