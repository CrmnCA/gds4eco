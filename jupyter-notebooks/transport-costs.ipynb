{
  "cells": [
    {
      "cell_type": "raw",
      "metadata": {},
      "source": [
        "---\n",
        "format:\n",
        "  html:\n",
        "    code-fold: false\n",
        "---"
      ]
    },
    {
      "cell_type": "markdown",
      "metadata": {},
      "source": [
        "# Transport costs {#sec-transport-costs}\n",
        "\n",
        "## Packages and modules"
      ]
    },
    {
      "cell_type": "code",
      "metadata": {},
      "source": [
        "import momepy\n",
        "import geopandas\n",
        "import contextily\n",
        "import xarray, rioxarray\n",
        "import osmnx as ox\n",
        "import numpy as np\n",
        "import matplotlib.pyplot as plt"
      ],
      "execution_count": null,
      "outputs": []
    },
    {
      "cell_type": "code",
      "metadata": {
        "tags": [
          "hide-input"
        ]
      },
      "source": [
        "ox.settings.overpass_settings = (\n",
        "    '[out:json][timeout:90][date:\"2021-03-07T00:00:00Z\"]'\n",
        ")"
      ],
      "execution_count": null,
      "outputs": []
    },
    {
      "cell_type": "markdown",
      "metadata": {},
      "source": [
        "## Data\n",
        "\n",
        "Assuming you have the file locally on the path `../data/`:"
      ]
    },
    {
      "cell_type": "code",
      "metadata": {},
      "source": [
        "streets = geopandas.read_file(\"../data/arturo_streets.gpkg\")\n",
        "abbs = geopandas.read_file(\"../data/madrid_abb.gpkg\")\n",
        "neis = geopandas.read_file(\"../data/neighbourhoods.geojson\")"
      ],
      "execution_count": null,
      "outputs": []
    },
    {
      "cell_type": "markdown",
      "metadata": {},
      "source": [
        "## `pandana` graphs"
      ]
    },
    {
      "cell_type": "code",
      "metadata": {},
      "source": [
        "import pandana"
      ],
      "execution_count": null,
      "outputs": []
    },
    {
      "cell_type": "markdown",
      "metadata": {},
      "source": [
        "Before building the routing network, we convert to graph and back in `momepy` to \"clean\" the network and ensure it complies with requirements for routing."
      ]
    },
    {
      "cell_type": "code",
      "metadata": {},
      "source": [
        "nodes, edges = momepy.nx_to_gdf( # Convert back to geo-table\n",
        "    momepy.gdf_to_nx(            # Convert to a clean NX graph\n",
        "        streets.explode(index_parts='True')        # We \"explode\" to avoid multi-part rows\n",
        "    )\n",
        ")\n",
        "nodes = nodes.set_index(\"nodeID\") # Reindex nodes on ID"
      ],
      "execution_count": null,
      "outputs": []
    },
    {
      "cell_type": "markdown",
      "metadata": {},
      "source": [
        "Once we have nodes and edges \"clean\" from the graph representation, we can build a `pandana.Network` object we will use for routing:"
      ]
    },
    {
      "cell_type": "code",
      "metadata": {},
      "source": [
        "streets_pdn = pandana.Network(\n",
        "    nodes.geometry.x,\n",
        "    nodes.geometry.y,\n",
        "    edges[\"node_start\"],\n",
        "    edges[\"node_end\"],\n",
        "    edges[[\"mm_len\"]]\n",
        ")\n",
        "\n",
        "streets_pdn"
      ],
      "execution_count": null,
      "outputs": []
    },
    {
      "cell_type": "markdown",
      "metadata": {},
      "source": [
        "## Shortest-path routing\n",
        "\n",
        "*How do I go from A to B?*\n",
        "\n",
        "For example, from the first Airbnb in the geo-table..."
      ]
    },
    {
      "cell_type": "code",
      "metadata": {},
      "source": [
        "first = abbs.loc[[0], :].to_crs(streets.crs)"
      ],
      "execution_count": null,
      "outputs": []
    },
    {
      "cell_type": "markdown",
      "metadata": {},
      "source": [
        "...to Puerta del Sol."
      ]
    },
    {
      "cell_type": "code",
      "metadata": {},
      "source": [
        "import geopy\n",
        "geopy.geocoders.options.default_user_agent = \"gds4eco\"\n",
        "sol = geopandas.tools.geocode(\n",
        "    \"Puerta del Sol, Madrid\", geopy.Nominatim\n",
        ").to_crs(streets.crs)\n",
        "sol"
      ],
      "execution_count": null,
      "outputs": []
    },
    {
      "cell_type": "markdown",
      "metadata": {},
      "source": [
        "First we *snap* locations to the network:"
      ]
    },
    {
      "cell_type": "code",
      "metadata": {},
      "source": [
        "pt_nodes = streets_pdn.get_node_ids(\n",
        "    [first.geometry.x.iloc[0], sol.geometry.x.iloc[0]], \n",
        "    [first.geometry.y.iloc[0], sol.geometry.y.iloc[0]]\n",
        ")\n",
        "pt_nodes"
      ],
      "execution_count": null,
      "outputs": []
    },
    {
      "cell_type": "markdown",
      "metadata": {},
      "source": [
        "Then we can route the shortest path:"
      ]
    },
    {
      "cell_type": "code",
      "metadata": {},
      "source": [
        "route_nodes = streets_pdn.shortest_path(\n",
        "    pt_nodes[0], pt_nodes[1]\n",
        ")\n",
        "route_nodes"
      ],
      "execution_count": null,
      "outputs": []
    },
    {
      "cell_type": "markdown",
      "metadata": {},
      "source": [
        "With this information, we can build the route line manually.\n",
        "\n",
        "The code to generate the route involves writing a function and is a bit more advanced than expected for this course. If this looks too complicated, do not despair."
      ]
    },
    {
      "cell_type": "code",
      "metadata": {},
      "source": [
        "from shapely.geometry import LineString\n",
        "\n",
        "def route_nodes_to_line(nodes, network):\n",
        "    pts = network.nodes_df.loc[nodes, :]\n",
        "    s = geopandas.GeoDataFrame(\n",
        "        {\"src_node\": [nodes[0]], \"tgt_node\": [nodes[1]]},\n",
        "        geometry=[LineString(pts.values)],\n",
        "        crs=streets.crs\n",
        "    )\n",
        "    return s"
      ],
      "execution_count": null,
      "outputs": []
    },
    {
      "cell_type": "markdown",
      "metadata": {},
      "source": [
        "We can calculate the route:"
      ]
    },
    {
      "cell_type": "code",
      "metadata": {},
      "source": [
        "route = route_nodes_to_line(route_nodes, streets_pdn)"
      ],
      "execution_count": null,
      "outputs": []
    },
    {
      "cell_type": "markdown",
      "metadata": {},
      "source": [
        "And we get it back as a geo-table (with one row):"
      ]
    },
    {
      "cell_type": "code",
      "metadata": {},
      "source": [
        "route"
      ],
      "execution_count": null,
      "outputs": []
    },
    {
      "cell_type": "markdown",
      "metadata": {},
      "source": [
        "Please note this builds a *simplified* line for the route, not one that is based on the original geometries."
      ]
    },
    {
      "cell_type": "code",
      "metadata": {},
      "source": [
        "fig, ax = plt.subplots()\n",
        "\n",
        "route.plot(\n",
        "    figsize=(9, 9),\n",
        "    color=\"red\",\n",
        "    ax=ax\n",
        ")\n",
        "\n",
        "contextily.add_basemap(\n",
        "    ax, \n",
        "    crs=route.crs,\n",
        "    source=contextily.providers.CartoDB.Voyager,\n",
        "    zoom=14\n",
        ")\n",
        "\n",
        "plt.show()"
      ],
      "execution_count": null,
      "outputs": []
    },
    {
      "cell_type": "markdown",
      "metadata": {},
      "source": [
        "But distance calculations *are* based on the original network). If we wanted to obtain the length of the route:"
      ]
    },
    {
      "cell_type": "code",
      "metadata": {},
      "source": [
        "route_len = streets_pdn.shortest_path_length(\n",
        "    pt_nodes[0], pt_nodes[1]\n",
        ")\n",
        "round(route_len / 1000, 3) # Dist in Km"
      ],
      "execution_count": null,
      "outputs": []
    },
    {
      "cell_type": "markdown",
      "metadata": {},
      "source": [
        "::: callout-note\n",
        "**Challenge:**\n",
        "\n",
        "\\- What is the network distance between CEMFI and Puerta del Sol?\n",
        "\n",
        "\\- BONUS I: how much longer is it than if you could fly in a straight line?\n",
        "\n",
        "\\- BONUS II: if one walks at a speed of 5 Km/h, how long does the walk take you?\n",
        ":::\n",
        "\n",
        "## Weighted routing\n",
        "\n",
        "*How do I go from A to B passing by the \"best\" buildings?*\n",
        "\n",
        "This is really an extension of standard routing that takes advantage of the flexibility of `pandana.Network` objects.\n",
        "\n",
        "Note that the `route` we defined above, does not pass by the \"best\" buildings."
      ]
    },
    {
      "cell_type": "code",
      "metadata": {},
      "source": [
        "bb = route.total_bounds\n",
        "\n",
        "fig, ax = plt.subplots()\n",
        "\n",
        "streets.cx[\n",
        "    bb[0]: bb[2], bb[1]:bb[3]\n",
        "].plot(\n",
        "    \"average_quality\", scheme=\"quantiles\", ax=ax\n",
        ")\n",
        "\n",
        "route.plot(color=\"r\", linewidth=2.5, ax=ax)\n",
        "\n",
        "ax.set_title(\"Mean Building Quality\")\n",
        "ax.set_axis_off()\n",
        "\n",
        "plt.show()"
      ],
      "execution_count": null,
      "outputs": []
    },
    {
      "cell_type": "markdown",
      "metadata": {},
      "source": [
        "The overall process to achieve this is the very similar; the main difference is, when we build the `Network` object, to replace distance (`mm_len`) with a measure that *combines* distance and building quality. Note that we want to *maximise* building quality, but the routing algorithms use a *minimisation* function. Hence, our composite index will need to reflect that.\n",
        "\n",
        "The strategy is divided in the following steps:\n",
        "\n",
        "1.  Re-scale distance between 0 and 1\n",
        "2.  Build a measure inverse to building quality in the $[0, 1]$ range\n",
        "3.  Generate a combined measure (`wdist`) by picking a weighting parameter\n",
        "4.  Build a new `Network` object that incorporates `wdist` instead of distance\n",
        "5.  Compute route between the two points of interest\n",
        "\n",
        "For 1., we can use the scaler in `scikit-learn`:"
      ]
    },
    {
      "cell_type": "code",
      "metadata": {},
      "source": [
        "from sklearn.preprocessing import minmax_scale"
      ],
      "execution_count": null,
      "outputs": []
    },
    {
      "cell_type": "markdown",
      "metadata": {},
      "source": [
        "Then generate and attach to `edges` a scaled version of `mm_len`:"
      ]
    },
    {
      "cell_type": "code",
      "metadata": {},
      "source": [
        "edges[\"scaled_dist\"] = minmax_scale(edges[\"mm_len\"])"
      ],
      "execution_count": null,
      "outputs": []
    },
    {
      "cell_type": "markdown",
      "metadata": {},
      "source": [
        "We can compare distance with scaled distance. The correlation should be perfect, the scaling is only a change of scale or unit."
      ]
    },
    {
      "cell_type": "code",
      "metadata": {},
      "source": [
        "fig, ax = plt.subplots()\n",
        "edges.plot.scatter(\"mm_len\", \"scaled_dist\", ax=ax)\n",
        "ax.set_title(\"Distance Vs Scaled Distance\")\n",
        "plt.show()"
      ],
      "execution_count": null,
      "outputs": []
    },
    {
      "cell_type": "markdown",
      "metadata": {},
      "source": [
        "We move on to 2., with a similar approach. We will use the negative of the building quality average (`average_quality`):"
      ]
    },
    {
      "cell_type": "code",
      "metadata": {},
      "source": [
        "edges[\"scaled_inv_bquality\"] = minmax_scale(\n",
        "    -edges[\"average_quality\"]\n",
        ")"
      ],
      "execution_count": null,
      "outputs": []
    },
    {
      "cell_type": "markdown",
      "metadata": {},
      "source": [
        "And again, we can plot the relation between building quality and the scaled quality."
      ]
    },
    {
      "cell_type": "code",
      "metadata": {},
      "source": [
        "fig, ax = plt.subplots()\n",
        "edges.plot.scatter(\n",
        "    \"average_quality\", \"scaled_inv_bquality\", ax=ax\n",
        ")\n",
        "ax.set_title(\"Quality Vs Inv. Scaled Quality\")\n",
        "plt.show()"
      ],
      "execution_count": null,
      "outputs": []
    },
    {
      "cell_type": "markdown",
      "metadata": {},
      "source": [
        "Taking 1. and 2. into 3. we can build `wdist`. For this example, we will give each dimension the same weight (0.5), but this is at discretion of the researcher."
      ]
    },
    {
      "cell_type": "code",
      "metadata": {},
      "source": [
        "w = 0.5\n",
        "edges[\"wdist\"] = (\n",
        "    edges[\"scaled_dist\"] * w +\n",
        "    edges[\"scaled_inv_bquality\"] * (1-w)\n",
        ")"
      ],
      "execution_count": null,
      "outputs": []
    },
    {
      "cell_type": "markdown",
      "metadata": {},
      "source": [
        "Now we can recreate the `Network` object based on our new measure (4.) and provide routing. Since it is the same process as with distance, we will do it all in one go:"
      ]
    },
    {
      "cell_type": "code",
      "metadata": {},
      "source": [
        "# Build new graph object\n",
        "w_graph = pandana.Network(\n",
        "    nodes.geometry.x,\n",
        "    nodes.geometry.y,\n",
        "    edges[\"node_start\"],\n",
        "    edges[\"node_end\"],\n",
        "    edges[[\"wdist\"]]\n",
        ")\n",
        "# Snap locations to their nearest node\n",
        "pt_nodes = w_graph.get_node_ids(\n",
        "    [first.geometry.x.iloc[0], sol.geometry.x.iloc[0]], \n",
        "    [first.geometry.y.iloc[0], sol.geometry.y.iloc[0]]\n",
        ")\n",
        "# Generate route\n",
        "w_route_nodes = w_graph.shortest_path(\n",
        "    pt_nodes[0], pt_nodes[1]\n",
        ")\n",
        "# Build LineString\n",
        "w_route = route_nodes_to_line(\n",
        "    w_route_nodes, w_graph\n",
        ")"
      ],
      "execution_count": null,
      "outputs": []
    },
    {
      "cell_type": "markdown",
      "metadata": {},
      "source": [
        "Now we are ready to display it on a map:"
      ]
    },
    {
      "cell_type": "code",
      "metadata": {},
      "source": [
        "fig, ax = plt.subplots()\n",
        "# Building quality\n",
        "streets.plot(\n",
        "    \"average_quality\", \n",
        "    scheme=\"quantiles\", \n",
        "    cmap=\"magma\",\n",
        "    linewidth=0.5,\n",
        "    figsize=(9, 9), \n",
        "    ax=ax\n",
        ")\n",
        "# Shortest route\n",
        "route.plot(\n",
        "    color=\"xkcd:orange red\", linewidth=3, ax=ax, label=\"Shortest\"\n",
        ")\n",
        "# Weighted route\n",
        "w_route.plot(\n",
        "    color=\"xkcd:easter green\", linewidth=3, ax=ax, label=\"Weighted\"\n",
        ")\n",
        "# Styling\n",
        "ax.set_axis_off()\n",
        "plt.legend()\n",
        "plt.show()"
      ],
      "execution_count": null,
      "outputs": []
    },
    {
      "cell_type": "markdown",
      "metadata": {},
      "source": [
        "::: callout-note\n",
        "**Challenge:**\n",
        "\n",
        "1\\. Explore the differences in the output of weighted routing if you change the weight between distance and the additional constrain.\n",
        "\n",
        "2\\. Recreate weighted routing using the linearity of street segments. How can you go from A to B avoiding long streets?\n",
        ":::\n",
        "\n",
        "## Proximity\n",
        "\n",
        "*What is the nearest internet cafe for Airbnb's without WiFi?*\n",
        "\n",
        "First we identify Airbnb's without WiFi:"
      ]
    },
    {
      "cell_type": "code",
      "metadata": {},
      "source": [
        "no_wifi = abbs.query(\n",
        "    \"WiFi == '0'\"\n",
        ").to_crs(streets.crs)"
      ],
      "execution_count": null,
      "outputs": []
    },
    {
      "cell_type": "markdown",
      "metadata": {},
      "source": [
        "Then pull WiFi spots in Madrid from OpenStreetMap:"
      ]
    },
    {
      "cell_type": "code",
      "metadata": {},
      "source": [
        "icafes = ox.features_from_place(\n",
        "    \"Madrid, Spain\", tags={\"amenity\": \"internet_cafe\"}\n",
        ").to_crs(streets.crs).reset_index()"
      ],
      "execution_count": null,
      "outputs": []
    },
    {
      "cell_type": "code",
      "metadata": {},
      "source": [
        "fig, ax = plt.subplots()\n",
        "\n",
        "no_wifi.plot(\n",
        "    color=\"red\", \n",
        "    markersize=1,\n",
        "    alpha=0.5,\n",
        "    label=\"Airbnb no WiFi\",\n",
        "    figsize=(9, 9),\n",
        "    ax=ax\n",
        ")\n",
        "\n",
        "icafes.plot(\n",
        "    ax=ax, color=\"lime\", label=\"Internet cafes\"\n",
        ")\n",
        "\n",
        "contextily.add_basemap(\n",
        "    ax, \n",
        "    crs=no_wifi.crs,\n",
        "    source=contextily.providers.CartoDB.Voyager\n",
        ")\n",
        "ax.set_axis_off()\n",
        "plt.legend()\n",
        "plt.show()"
      ],
      "execution_count": null,
      "outputs": []
    },
    {
      "cell_type": "markdown",
      "metadata": {},
      "source": [
        "The logic for this operation is the following:\n",
        "\n",
        "1.  Add the points of interest (POIs, the internet cafes) to the network object (`streets_pdn`)\n",
        "2.  Find the nearest node to each POI\n",
        "3.  Find the nearest node to each Airbnb without WiFi\n",
        "4.  Connect each Airbnb to its nearest internet cafe\n",
        "\n",
        "We can add the internet cafes to the network object (1.) with the `set_pois` method. Note we set `maxitems=1` because we are only going to query for the nearest cafe. This will make computations much faster."
      ]
    },
    {
      "cell_type": "code",
      "metadata": {},
      "source": [
        "streets_pdn.set_pois(\n",
        "    category=\"Internet cafes\", # Our name for the layer in the `Network` object\n",
        "    maxitems=1,                # Use to count only nearest cafe\n",
        "    maxdist=100000,            # 100km so everything is included\n",
        "    x_col=icafes.geometry.x,   # X coords of cafes\n",
        "    y_col=icafes.geometry.y,   # Y coords of cafes\n",
        ")"
      ],
      "execution_count": null,
      "outputs": []
    },
    {
      "cell_type": "markdown",
      "metadata": {},
      "source": [
        "Once the cafes are added to the network, we can find the nearest one to each node (2.). Note there are some nodes for which we can't find a nearest cafe. These are related to disconnected parts of the network."
      ]
    },
    {
      "cell_type": "code",
      "metadata": {},
      "source": [
        "cafe2nnode = streets_pdn.nearest_pois(\n",
        "    100000,              # Max distance to look for\n",
        "    \"Internet cafes\",    # POIs to look for\n",
        "    num_pois=1,          # No. of POIs to include\n",
        "    include_poi_ids=True # Store POI ID\n",
        ").join(# Then add the internet cafee IDs and name\n",
        "    icafes[['osmid', 'name']],\n",
        "    on=\"poi1\"\n",
        ").rename(# Rename the distance from node to cafe\n",
        "    columns={1: \"dist2icafe\"}\n",
        ")\n",
        "cafe2nnode.head()"
      ],
      "execution_count": null,
      "outputs": []
    },
    {
      "cell_type": "markdown",
      "metadata": {},
      "source": [
        "To make things easier down the line, we can link `cafe2nnode` to the cafe IDs. And we can also link Airbnb's to nodes (3.) following a similar approach as we have seen above:"
      ]
    },
    {
      "cell_type": "code",
      "metadata": {},
      "source": [
        "abbs_nnode = streets_pdn.get_node_ids(\n",
        "    no_wifi.geometry.x, no_wifi.geometry.y\n",
        ")\n",
        "abbs_nnode.head()"
      ],
      "execution_count": null,
      "outputs": []
    },
    {
      "cell_type": "markdown",
      "metadata": {},
      "source": [
        "Finally, we can bring together both to find out what is the nearest internet cafe for each Airbnb (4.)."
      ]
    },
    {
      "cell_type": "code",
      "metadata": {},
      "source": [
        "abb_icafe = no_wifi[\n",
        "    [\"geometry\"]     # Keep only geometries of ABBs w/o WiFi\n",
        "].assign(\n",
        "    nnode=abbs_nnode # Attach to thse ABBs the nearest node in the network\n",
        ").join(              # Join to each ABB the nearest cafe using node IDs\n",
        "    cafe2nnode, \n",
        "    on=\"nnode\"\n",
        ")\n",
        "abb_icafe.head()"
      ],
      "execution_count": null,
      "outputs": []
    },
    {
      "cell_type": "markdown",
      "metadata": {},
      "source": [
        "::: callout-note\n",
        "**Challenge:** Calculate distances to nearest internet cafe for ABBs *with* WiFi. On average, which of the two groups (with and without WiFi) are closer to internet cafes?\n",
        ":::\n",
        "\n",
        "## Accessibility\n",
        "\n",
        "This flips the previous question on its head and, instead of asking what is the nearest POI to a given point, along the network (irrespective of distance), it asks how many POIs can I access within a network-based distance radius?"
      ]
    },
    {
      "cell_type": "code",
      "metadata": {},
      "source": [
        "parks = ox.features_from_place(\n",
        "    \"Madrid, Spain\", tags={\"leisure\": \"park\"}\n",
        ").to_crs(streets.crs)"
      ],
      "execution_count": null,
      "outputs": []
    },
    {
      "cell_type": "markdown",
      "metadata": {},
      "source": [
        "-   For example, how many parks are within 500m(-euclidean) of an Airbnb?\n",
        "\n",
        "We draw a radius of 500m around each AirBnb:"
      ]
    },
    {
      "cell_type": "code",
      "metadata": {},
      "source": [
        "buffers = geopandas.GeoDataFrame(\n",
        "    geometry=abbs.to_crs(\n",
        "        streets.crs\n",
        "    ).buffer(\n",
        "        500\n",
        "    )\n",
        ")"
      ],
      "execution_count": null,
      "outputs": []
    },
    {
      "cell_type": "markdown",
      "metadata": {},
      "source": [
        "Then intersect it with the location of parks, and count by buffer (ie. Airbnb):"
      ]
    },
    {
      "cell_type": "code",
      "metadata": {},
      "source": [
        "park_count = geopandas.sjoin(\n",
        "    parks, buffers\n",
        ").groupby(\n",
        "    \"index_right\"\n",
        ").size()"
      ],
      "execution_count": null,
      "outputs": []
    },
    {
      "cell_type": "markdown",
      "metadata": {},
      "source": [
        "-   How many parks are within 500m(-network) of an Airbnb?\n",
        "\n",
        "We need to approach this as a calculation within the network. The logic of steps thus looks like:\n",
        "\n",
        "1.  Use the aggregation module in `pandana` to count the number of parks within 500m of each node in the network\n",
        "2.  Extract the counts for the nodes nearest to Airbnb properties\n",
        "3.  Assign park counts to each Airbnb\n",
        "\n",
        "We can set up the aggregate engine (1.). This involves three steps:\n",
        "\n",
        "a.  Obtain nearest node for each park"
      ]
    },
    {
      "cell_type": "code",
      "metadata": {},
      "source": [
        "parks_nnode = streets_pdn.get_node_ids(\n",
        "    parks.centroid.x, parks.centroid.y\n",
        ")"
      ],
      "execution_count": null,
      "outputs": []
    },
    {
      "cell_type": "markdown",
      "metadata": {},
      "source": [
        "b.  Insert the parks' nearest node through `set` so it can be \"aggregated\""
      ]
    },
    {
      "cell_type": "code",
      "metadata": {},
      "source": [
        "streets_pdn.set(\n",
        "    parks_nnode, name=\"Parks\"\n",
        ")"
      ],
      "execution_count": null,
      "outputs": []
    },
    {
      "cell_type": "markdown",
      "metadata": {},
      "source": [
        "c.  \"Aggregate\" for a distance of 500m, effectively counting the number of parks within 500m of each node"
      ]
    },
    {
      "cell_type": "code",
      "metadata": {},
      "source": [
        "parks_by_node = streets_pdn.aggregate(\n",
        "    distance=500, type=\"count\", name=\"Parks\"\n",
        ")\n",
        "parks_by_node.head()"
      ],
      "execution_count": null,
      "outputs": []
    },
    {
      "cell_type": "markdown",
      "metadata": {},
      "source": [
        "At this point, we have the number of parks within 500m of *every* node in the network. To identify those that correspond to each Airbnb (3.), we first pull out the nearest nodes to each ABB:"
      ]
    },
    {
      "cell_type": "code",
      "metadata": {},
      "source": [
        "abbs_xys = abbs.to_crs(streets.crs).geometry\n",
        "abbs_nnode = streets_pdn.get_node_ids(\n",
        "    abbs_xys.x, abbs_xys.y\n",
        ")"
      ],
      "execution_count": null,
      "outputs": []
    },
    {
      "cell_type": "markdown",
      "metadata": {},
      "source": [
        "And use the list to assign the count of the nearest node to each Airbnb:"
      ]
    },
    {
      "cell_type": "code",
      "metadata": {},
      "source": [
        "park_count_network = abbs_nnode.map(\n",
        "    parks_by_node\n",
        ")\n",
        "park_count_network.head()"
      ],
      "execution_count": null,
      "outputs": []
    },
    {
      "cell_type": "markdown",
      "metadata": {},
      "source": [
        "-   For which areas do both differ most?\n",
        "\n",
        "We can compare the two counts above to explore to what extent the street layout is constraining access to nearby parks."
      ]
    },
    {
      "cell_type": "code",
      "metadata": {},
      "source": [
        "park_comp = geopandas.GeoDataFrame(\n",
        "    {\n",
        "        \"Euclidean\": park_count, \n",
        "        \"Network\": park_count_network\n",
        "    },\n",
        "    geometry=abbs.geometry,\n",
        "    crs=abbs.crs\n",
        ")"
      ],
      "execution_count": null,
      "outputs": []
    },
    {
      "cell_type": "code",
      "metadata": {},
      "source": [
        "fig, ax = plt.subplots()\n",
        "park_comp.plot.scatter(\"Euclidean\", \"Network\", ax=ax)\n",
        "ax.axline([0, 0], [1, 1], color='red') #45-degree line\n",
        "plt.show()"
      ],
      "execution_count": null,
      "outputs": []
    },
    {
      "cell_type": "markdown",
      "metadata": {},
      "source": [
        "Note there are a few cases where there are more network counts than Euclidean. These are due to the slight inaccuracies introduced by calculating network distances from nodes rather than the locations themselves.\n",
        "\n",
        "Geographically:"
      ]
    },
    {
      "cell_type": "code",
      "metadata": {},
      "source": [
        "fig, axs = plt.subplots(1, 3, figsize=(15, 5))\n",
        "\n",
        "# Euclidean count\n",
        "abbs.to_crs(\n",
        "    streets.crs\n",
        ").assign(\n",
        "    n_parks=park_count\n",
        ").fillna(0).plot(\n",
        "    \"n_parks\", \n",
        "    scheme=\"fisherjenkssampled\", \n",
        "    alpha=0.5,\n",
        "    markersize=1,\n",
        "    legend=True,\n",
        "    ax=axs[0]\n",
        ")\n",
        "contextily.add_basemap(\n",
        "    axs[0], \n",
        "    crs=streets.crs,\n",
        "    source=contextily.providers.CartoDB.PositronNoLabels\n",
        ")\n",
        "axs[0].set_axis_off()\n",
        "axs[0].set_title(\"Euclidean Distances\")\n",
        "\n",
        "# Count difference\n",
        "with_parks = park_comp.query(\n",
        "    \"(Network > 0) & (Euclidean > 0)\"\n",
        ")\n",
        "count_diff = 100 * (\n",
        "    with_parks[\"Euclidean\"] - \n",
        "    with_parks[\"Network\"]\n",
        ") / with_parks[\"Euclidean\"]\n",
        "abbs.to_crs(\n",
        "    streets.crs\n",
        ").assign(\n",
        "    n_parks=count_diff\n",
        ").dropna().plot(\n",
        "    \"n_parks\", \n",
        "    scheme=\"fisherjenkssampled\", \n",
        "    alpha=0.5,\n",
        "    markersize=1,\n",
        "    legend=True,\n",
        "    ax=axs[1]\n",
        ")\n",
        "contextily.add_basemap(\n",
        "    axs[1], \n",
        "    crs=streets.crs,\n",
        "    source=contextily.providers.CartoDB.PositronNoLabels\n",
        ")\n",
        "axs[1].set_axis_off()\n",
        "axs[1].set_title(\"Count Difference (%)\")\n",
        "\n",
        "# Network count\n",
        "abbs.to_crs(\n",
        "    streets.crs\n",
        ").assign(\n",
        "    n_parks=park_count_network\n",
        ").fillna(0).plot(\n",
        "    \"n_parks\", \n",
        "    scheme=\"fisherjenkssampled\", \n",
        "    alpha=0.5,\n",
        "    markersize=1,\n",
        "    legend=True,\n",
        "    ax=axs[2]\n",
        ")\n",
        "contextily.add_basemap(\n",
        "    axs[2], \n",
        "    crs=streets.crs,\n",
        "    source=contextily.providers.CartoDB.PositronNoLabels\n",
        ")\n",
        "axs[2].set_axis_off()\n",
        "axs[2].set_title(\"Network Distances\")\n",
        "\n",
        "plt.show()"
      ],
      "execution_count": null,
      "outputs": []
    },
    {
      "cell_type": "markdown",
      "metadata": {},
      "source": [
        "::: callout-note\n",
        "**Challenge:** Calculate accessibility to *other* ABBs from each ABB through the network. *How many ABBs can you access within 500m of each ABB?*\n",
        "\n",
        "Note you will need to use the locations of ABBs both as the source and the target for routing in this case.\n",
        ":::\n",
        "\n",
        "## Next steps\n",
        "\n",
        "If you found the content in this block useful, the following resources represent some suggestions on where to go next:\n",
        "\n",
        "-   The [`pandana` tutorial](https://github.com/UDST/pandana/blob/master/examples/Pandana-demo.ipynb) and [documentation](http://udst.github.io/pandana/index.html) are excellent places to get a more detailed and comprehensive view into the functionality of the library"
      ]
    }
  ],
  "metadata": {
    "kernelspec": {
      "name": "python3",
      "language": "python",
      "display_name": "Python 3 (ipykernel)"
    }
  },
  "nbformat": 4,
  "nbformat_minor": 4
}