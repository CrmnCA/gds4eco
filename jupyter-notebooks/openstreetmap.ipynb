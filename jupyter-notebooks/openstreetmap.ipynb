{
  "cells": [
    {
      "cell_type": "markdown",
      "metadata": {},
      "source": [
        "---\n",
        "format:\n",
        "  html:\n",
        "    code-fold: false\n",
        "jupyter: python3\n",
        "---\n",
        "\n",
        "# OpenStreetMap {#sec-osm}"
      ]
    },
    {
      "cell_type": "code",
      "metadata": {
        "tags": [
          "remove-cell"
        ]
      },
      "source": [
        "from IPython.display import YouTubeVideo"
      ],
      "execution_count": null,
      "outputs": []
    },
    {
      "cell_type": "markdown",
      "metadata": {},
      "source": [
        "This session is all about OpenStreetMap. The following will resources provide an overview of the OpenStreetMap project:\n",
        "\n",
        "-   A clip"
      ]
    },
    {
      "cell_type": "code",
      "metadata": {},
      "source": [
        "#| echo: false\n",
        "#| output: asis\n",
        "YouTubeVideo(\n",
        "    \"Phwrgb16oEM\", width=700, height=300\n",
        ")"
      ],
      "execution_count": null,
      "outputs": []
    },
    {
      "cell_type": "markdown",
      "metadata": {},
      "source": [
        "-   [This piece](https://joemorrison.medium.com/openstreetmap-is-having-a-moment-dcc7eef1bb01) is about how OpenStreetMap is currently being created and some of the implications this may have.\n",
        "-   Anderson et al. [@anderson2019corporate] provide some of the academic underpinnings to the views expressed in the above piece.\n",
        "\n",
        "## Packages and modules"
      ]
    },
    {
      "cell_type": "code",
      "metadata": {},
      "source": [
        "import geopandas\n",
        "import contextily\n",
        "import matplotlib.pyplot as plt\n",
        "from IPython.display import GeoJSON"
      ],
      "execution_count": null,
      "outputs": []
    },
    {
      "cell_type": "markdown",
      "metadata": {},
      "source": [
        "## Data\n",
        "\n",
        "Since some of the query options we will discuss involve pre-defined extents, we will read the Madrid neighbourhoods dataset first.\n",
        "\n",
        "Assuming you have the file locally on the path `../data/`:"
      ]
    },
    {
      "cell_type": "code",
      "metadata": {},
      "source": [
        "neis = geopandas.read_file(\"../data/neighbourhoods.geojson\")"
      ],
      "execution_count": null,
      "outputs": []
    },
    {
      "cell_type": "markdown",
      "metadata": {},
      "source": [
        "To make some of the examples below computationally easier on OpenStreetMap servers, we will single out the smallest neighborhood:"
      ]
    },
    {
      "cell_type": "code",
      "metadata": {},
      "source": [
        "areas = neis.to_crs(\n",
        "    epsg=32630\n",
        ").area\n",
        "\n",
        "smallest = neis[areas == areas.min()]\n",
        "smallest"
      ],
      "execution_count": null,
      "outputs": []
    },
    {
      "cell_type": "code",
      "metadata": {},
      "source": [
        "fig, ax = plt.subplots()\n",
        "\n",
        "smallest.plot(\n",
        "    facecolor=\"none\", edgecolor=\"blue\", linewidth=2, ax=ax\n",
        ")\n",
        "\n",
        "contextily.add_basemap(\n",
        "    ax, \n",
        "    crs=smallest.crs, \n",
        "    source=contextily.providers.OpenStreetMap.Mapnik\n",
        ")\n",
        "\n",
        "plt.show()"
      ],
      "execution_count": null,
      "outputs": []
    },
    {
      "cell_type": "markdown",
      "metadata": {},
      "source": [
        "## `osmnx`\n",
        "\n",
        "Let's import one more package, `osmnx`, designed to easily download, model, analyse, and visualise street networks and other geospatial features from OpenStreetMap."
      ]
    },
    {
      "cell_type": "code",
      "metadata": {},
      "source": [
        "import osmnx as ox"
      ],
      "execution_count": null,
      "outputs": []
    },
    {
      "cell_type": "markdown",
      "metadata": {},
      "source": [
        "Here is a trick (courtesy of [Martin Fleischmann](https://martinfleischmann.net/) to pin all your queries to OpenStreetMap to a specific date, so results are always reproducible, even if the map changes in the meantime."
      ]
    },
    {
      "cell_type": "code",
      "metadata": {},
      "source": [
        "ox.settings.overpass_settings = (\n",
        "    '[out:json][timeout:90][date:\"2021-03-07T00:00:00Z\"]'\n",
        ")"
      ],
      "execution_count": null,
      "outputs": []
    },
    {
      "cell_type": "markdown",
      "metadata": {},
      "source": [
        "::: callout-note\n",
        "Much of the methods covered here rely on the `osmnx.features` module. Check out its reference [here](https://osmnx.readthedocs.io/en/stable/osmnx.html#module-osmnx.features).\n",
        ":::\n",
        "\n",
        "There are two broad areas to keep in mind when querying data on OpenStreetMap through `osmnx`:\n",
        "\n",
        "-   The interface to specify the extent of the search.\n",
        "\n",
        "-   The nature of the entities being queried. Here, the interface relies entirely on OpenStreetMap's tagging system. Given the distributed nature of the project, this is variable, but a good place to start is:\n",
        "\n",
        "> <https://wiki.openstreetmap.org/wiki/Tags>\n",
        "\n",
        "Generally, the interface we will follow involves the following:\n",
        "\n",
        "```         \n",
        "received_entities = ox.features_from_XXX(\n",
        "    <extent>, tags={<key>: True/<value(s)>}, ...\n",
        ")\n",
        "```\n",
        "\n",
        "The `<extent>` can take several forms. We can print out the available forms:"
      ]
    },
    {
      "cell_type": "code",
      "metadata": {
        "tags": [
          "hide-input"
        ]
      },
      "source": [
        "[i for i in dir(ox) if \"features_from_\" in i]"
      ],
      "execution_count": null,
      "outputs": []
    },
    {
      "cell_type": "markdown",
      "metadata": {},
      "source": [
        "The `tags` follow the [official feature spec](https://wiki.openstreetmap.org/wiki/Map_features).\n",
        "\n",
        "## Buildings"
      ]
    },
    {
      "cell_type": "code",
      "metadata": {},
      "source": [
        "blgs = ox.features_from_polygon(\n",
        "    smallest.squeeze().geometry, tags={\"building\": True}\n",
        ")"
      ],
      "execution_count": null,
      "outputs": []
    },
    {
      "cell_type": "code",
      "metadata": {},
      "source": [
        "fig, ax = plt.subplots()\n",
        "\n",
        "blgs.plot(ax=ax)\n",
        "\n",
        "plt.show()"
      ],
      "execution_count": null,
      "outputs": []
    },
    {
      "cell_type": "code",
      "metadata": {},
      "source": [
        "blgs.info()"
      ],
      "execution_count": null,
      "outputs": []
    },
    {
      "cell_type": "code",
      "metadata": {},
      "source": [
        "blgs.head()"
      ],
      "execution_count": null,
      "outputs": []
    },
    {
      "cell_type": "markdown",
      "metadata": {},
      "source": [
        "If you want to visit the entity online, you can do so at:\n",
        "\n",
        "> `https://www.openstreetmap.org/<unique_id>`\n",
        "\n",
        "::: callout-note\n",
        "**Challenge:** Extract the building footprints for the Sol neighbourhood in `neis`.\n",
        ":::\n",
        "\n",
        "## Other polygons"
      ]
    },
    {
      "cell_type": "code",
      "metadata": {},
      "source": [
        "park = ox.features_from_place(\n",
        "    \"Parque El Retiro, Madrid\", tags={\"leisure\": \"park\"}\n",
        ")"
      ],
      "execution_count": null,
      "outputs": []
    },
    {
      "cell_type": "code",
      "metadata": {},
      "source": [
        "fig, ax = plt.subplots()\n",
        "\n",
        "park.plot(\n",
        "    facecolor=\"none\", edgecolor=\"blue\", linewidth=2, ax=ax\n",
        ")\n",
        "\n",
        "contextily.add_basemap(\n",
        "    ax, \n",
        "    crs=smallest.crs, \n",
        "    source=contextily.providers.OpenStreetMap.Mapnik\n",
        ")\n",
        "\n",
        "plt.show()"
      ],
      "execution_count": null,
      "outputs": []
    },
    {
      "cell_type": "markdown",
      "metadata": {},
      "source": [
        "## Points of interest\n",
        "\n",
        "Bars around Atocha station:"
      ]
    },
    {
      "cell_type": "code",
      "metadata": {},
      "source": [
        "bars = ox.features_from_address(\n",
        "    \"Puerta de Atocha, Madrid\", tags={\"amenity\": \"bar\"}, dist=1500\n",
        ")"
      ],
      "execution_count": null,
      "outputs": []
    },
    {
      "cell_type": "markdown",
      "metadata": {},
      "source": [
        "We can quickly explore with `GeoJSON`:"
      ]
    },
    {
      "cell_type": "code",
      "metadata": {},
      "source": [
        "bars.explore()"
      ],
      "execution_count": null,
      "outputs": []
    },
    {
      "cell_type": "markdown",
      "metadata": {},
      "source": [
        "And stores within Malasaña:"
      ]
    },
    {
      "cell_type": "code",
      "metadata": {},
      "source": [
        "shops = ox.features_from_address(\n",
        "    \"Malasaña, Madrid, Spain\", # Boundary to search within\n",
        "    tags={\n",
        "        \"shop\": True,\n",
        "        \"landuse\": [\"retail\", \"commercial\"],\n",
        "        \"building\": \"retail\"\n",
        "    },\n",
        "    dist=1000\n",
        ")\n",
        "\n",
        "shops.explore()"
      ],
      "execution_count": null,
      "outputs": []
    },
    {
      "cell_type": "markdown",
      "metadata": {},
      "source": [
        "We use `features_from_place` for delineated areas (\"polygonal entities\"):"
      ]
    },
    {
      "cell_type": "code",
      "metadata": {},
      "source": [
        "cs = ox.features_from_place(\n",
        "    \"Madrid, Spain\",\n",
        "    tags={\"amenity\": \"charging_station\"}\n",
        ")\n",
        "\n",
        "cs.explore()"
      ],
      "execution_count": null,
      "outputs": []
    },
    {
      "cell_type": "markdown",
      "metadata": {},
      "source": [
        "Similarly, we can work with location data. For example, searches around a given point:"
      ]
    },
    {
      "cell_type": "code",
      "metadata": {},
      "source": [
        "bakeries = ox.features_from_point(\n",
        "    (40.418881103417675, -3.6920446157455444),\n",
        "    tags={\"shop\": \"bakery\", \"craft\": \"bakery\"},\n",
        "    dist=500\n",
        ")\n",
        "\n",
        "bakeries.explore()"
      ],
      "execution_count": null,
      "outputs": []
    },
    {
      "cell_type": "markdown",
      "metadata": {},
      "source": [
        "::: callout-note\n",
        "**Challenge:**\n",
        "\n",
        "-   *How many music shops does OSM record within 750 metres of Puerta de Alcalá?*\n",
        "\n",
        "\\- *Are there more restaurants or clothing shops within the polygon that represents the Pacífico neighbourhood in `neis` table?*\n",
        ":::\n",
        "\n",
        "## Streets\n",
        "\n",
        "Street data can be obtained as another type of entity, as above; or as a graph object.\n",
        "\n",
        "### Geo-tables"
      ]
    },
    {
      "cell_type": "code",
      "metadata": {},
      "source": [
        "centro = ox.features_from_polygon(\n",
        "    neis.query(\"neighbourhood == 'Sol'\").squeeze().geometry,\n",
        "    tags={\"highway\": True}\n",
        ")"
      ],
      "execution_count": null,
      "outputs": []
    },
    {
      "cell_type": "markdown",
      "metadata": {},
      "source": [
        "We can get a quick peak into what is returned (in grey), compared to the region we used for the query:"
      ]
    },
    {
      "cell_type": "code",
      "metadata": {},
      "source": [
        "fig, ax = plt.subplots()\n",
        "\n",
        "neis.query(\n",
        "    \"neighbourhood == 'Sol'\"\n",
        ").plot(color=\"k\", ax=ax)\n",
        "\n",
        "centro.plot(\n",
        "    ax=ax, \n",
        "    color=\"0.5\", \n",
        "    linewidth=0.2, \n",
        "    markersize=0.5\n",
        ")\n",
        "\n",
        "plt.show()"
      ],
      "execution_count": null,
      "outputs": []
    },
    {
      "cell_type": "markdown",
      "metadata": {},
      "source": [
        "This however will return all sorts of things:"
      ]
    },
    {
      "cell_type": "code",
      "metadata": {},
      "source": [
        "centro.geometry"
      ],
      "execution_count": null,
      "outputs": []
    },
    {
      "cell_type": "markdown",
      "metadata": {},
      "source": [
        "### Spatial graphs\n",
        "\n",
        "The `graph_from_XXX()` functions return clean, processed *graph* objects for the street network. Available options are:"
      ]
    },
    {
      "cell_type": "code",
      "metadata": {},
      "source": [
        "[i for i in dir(ox) if \"graph_from_\" in i]"
      ],
      "execution_count": null,
      "outputs": []
    },
    {
      "cell_type": "markdown",
      "metadata": {},
      "source": [
        "Here is an example:"
      ]
    },
    {
      "cell_type": "code",
      "metadata": {},
      "source": [
        "centro_gr = ox.graph_from_polygon(\n",
        "    neis.query(\"neighbourhood == 'Sol'\").squeeze().geometry,\n",
        ")"
      ],
      "execution_count": null,
      "outputs": []
    },
    {
      "cell_type": "markdown",
      "metadata": {},
      "source": [
        "This is indeed a graph object (as defined by the `networkx` package):"
      ]
    },
    {
      "cell_type": "code",
      "metadata": {},
      "source": [
        "centro_gr"
      ],
      "execution_count": null,
      "outputs": []
    },
    {
      "cell_type": "markdown",
      "metadata": {},
      "source": [
        "To visualise it, there are several plotting options:"
      ]
    },
    {
      "cell_type": "code",
      "metadata": {},
      "source": [
        "[i for i in dir(ox) if \"plot_graph\" in i]"
      ],
      "execution_count": null,
      "outputs": []
    },
    {
      "cell_type": "markdown",
      "metadata": {},
      "source": [
        "For example:"
      ]
    },
    {
      "cell_type": "code",
      "metadata": {},
      "source": [
        "fig, ax = plt.subplots()\n",
        "\n",
        "ox.plot_figure_ground(centro_gr)"
      ],
      "execution_count": null,
      "outputs": []
    },
    {
      "cell_type": "code",
      "metadata": {},
      "source": [
        "ox.graph_to_gdfs(centro_gr, nodes=False).explore()"
      ],
      "execution_count": null,
      "outputs": []
    },
    {
      "cell_type": "markdown",
      "metadata": {},
      "source": [
        "::: callout-note\n",
        "**Challenge:** *How many bookshops are within a 50m radious of the Paseo de la Castellana?*\n",
        ":::\n",
        "\n",
        "Bonus tip: this one involves the following steps:\n",
        "\n",
        "-   Extracting the street segment for Paseo de la Castellana\n",
        "-   Drawing a 50m buffer around it\n",
        "-   Querying OSM for bookshops \\`\\`\\`\n",
        "\n",
        "## Next steps\n",
        "\n",
        "If you found the content in this block useful, the following resources represent some suggestions on where to go next:\n",
        "\n",
        "-   Parts of the block are inspired and informed by Geoff Boeing's excellent [course on Urban Data Science](https://github.com/gboeing/ppd599)\n",
        "-   More in depth content about `osmnx` is available in the [official examples collection](https://github.com/gboeing/osmnx-examples)\n",
        "-   Boeing (2020) {cite}`boeing2020exploring` illustrates how OpenStreetMap can be used to analyse urban form ([Open Access](https://osf.io/preprints/socarxiv/rnwgv/))"
      ]
    }
  ],
  "metadata": {
    "kernelspec": {
      "name": "python3",
      "language": "python",
      "display_name": "Python 3 (ipykernel)",
      "path": "/Users/carmen/anaconda3/envs/geo-env-new/share/jupyter/kernels/python3"
    }
  },
  "nbformat": 4,
  "nbformat_minor": 4
}