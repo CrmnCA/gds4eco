{
  "cells": [
    {
      "cell_type": "markdown",
      "metadata": {},
      "source": [
        "---\n",
        "format:\n",
        "  html:\n",
        "    code-fold: false\n",
        "jupyter: python3\n",
        "---\n",
        "\n",
        "# Geovisualisation {#sec-geovisualisation}\n",
        "\n",
        "This block is all about visualising statistical data on top of a geography. Although this task looks simple, there are a few technical and conceptual building blocks that it helps to understand before we try to make our own maps. Aim to complete the following readings by the time we get our hands on the keyboard:\n",
        "\n",
        "-   [Block D](https://darribas.org/gds_course/content/bD/concepts_D.html) of the GDS course [@darribas_gds_course], which provides an introduction to choropleths (statistical maps).\n",
        "-   This [Chapter](https://geographicdata.science/book/notebooks/05_choropleth.html) of the GDS Book [@reyABwolf] , discussing choropleths in more detail.\n",
        "\n",
        "Additionally, parts of this block are based and sourced from Chapters 2, 3 and 4 from the on-line course \"A course in Geographic Data Science\", by Dr Elisabetta Pietrostefani and Dr Carmen Cabrera-Arnau [@courseGDS-pietrostefani-cabrera]. This course also provides code in R.\n",
        "\n",
        "## Packages and modules"
      ]
    },
    {
      "cell_type": "code",
      "metadata": {},
      "source": [
        "import geopandas\n",
        "import xarray, rioxarray\n",
        "import contextily\n",
        "import seaborn as sns\n",
        "from pysal.viz import mapclassify as mc\n",
        "from legendgram import legendgram\n",
        "import matplotlib.pyplot as plt\n",
        "import palettable.matplotlib as palmpl\n",
        "from splot.mapping import vba_choropleth"
      ],
      "execution_count": null,
      "outputs": []
    },
    {
      "cell_type": "markdown",
      "metadata": {},
      "source": [
        "## Data\n",
        "\n",
        "If you want to read more about the data sources behind this dataset, head to the [Datasets](./data/datasets) section.\n",
        "\n",
        "Assuming you have the file locally on the path `../data/`:"
      ]
    },
    {
      "cell_type": "code",
      "metadata": {},
      "source": [
        "db = geopandas.read_file(\"../data/cambodia_regional.gpkg\")"
      ],
      "execution_count": null,
      "outputs": []
    },
    {
      "cell_type": "markdown",
      "metadata": {},
      "source": [
        "Quick visualisation:"
      ]
    },
    {
      "cell_type": "code",
      "metadata": {},
      "source": [
        "fig, ax = plt.subplots()\n",
        "db.to_crs(\n",
        "    epsg=3857\n",
        ").plot(\n",
        "    edgecolor=\"red\",\n",
        "    facecolor=\"none\",\n",
        "    linewidth=2,\n",
        "    alpha=0.25,\n",
        "    figsize=(9, 9),\n",
        "    ax=ax\n",
        ")\n",
        "contextily.add_basemap(\n",
        "    ax,\n",
        "    source=contextily.providers.Esri.NatGeoWorldMap\n",
        ")\n",
        "ax.set_axis_off()\n",
        "\n",
        "plt.show()"
      ],
      "execution_count": null,
      "outputs": []
    },
    {
      "cell_type": "code",
      "metadata": {},
      "source": [
        "db.info()"
      ],
      "execution_count": null,
      "outputs": []
    },
    {
      "cell_type": "markdown",
      "metadata": {},
      "source": [
        "We will use the average measurement of [nitrogen dioxide](http://www.tropomi.eu/data-products/nitrogen-dioxide) (`no2_mean`) by region throughout the block.\n",
        "\n",
        "To make visualisation a bit easier below, we create an additional column with values rescaled:"
      ]
    },
    {
      "cell_type": "code",
      "metadata": {},
      "source": [
        "db[\"no2_viz\"] = db[\"no2_mean\"] * 1e5"
      ],
      "execution_count": null,
      "outputs": []
    },
    {
      "cell_type": "markdown",
      "metadata": {},
      "source": [
        "This way, numbers are larger and will fit more easily on legends:"
      ]
    },
    {
      "cell_type": "code",
      "metadata": {},
      "source": [
        "db[[\"no2_mean\", \"no2_viz\"]].describe()"
      ],
      "execution_count": null,
      "outputs": []
    },
    {
      "cell_type": "markdown",
      "metadata": {},
      "source": [
        "## Choropleths"
      ]
    },
    {
      "cell_type": "code",
      "metadata": {},
      "source": [
        "fig, ax = plt.subplots()\n",
        "db.to_crs(\n",
        "    epsg=3857\n",
        ").plot(\n",
        "    \"no2_viz\", \n",
        "    legend=True,\n",
        "    figsize=(12, 9),\n",
        "    ax=ax\n",
        ")\n",
        "\n",
        "contextily.add_basemap(\n",
        "    ax, \n",
        "    source=contextily.providers.CartoDB.VoyagerOnlyLabels,\n",
        "    zoom=7\n",
        ")\n",
        "\n",
        "plt.show()"
      ],
      "execution_count": null,
      "outputs": []
    },
    {
      "cell_type": "markdown",
      "metadata": {},
      "source": [
        "### A classiffication problem"
      ]
    },
    {
      "cell_type": "code",
      "metadata": {},
      "source": [
        "db[\"no2_viz\"].unique().shape"
      ],
      "execution_count": null,
      "outputs": []
    },
    {
      "cell_type": "code",
      "metadata": {},
      "source": [
        "sns.displot(\n",
        "    db, x=\"no2_viz\", kde=True, aspect=2\n",
        ")\n",
        "\n",
        "plt.show()"
      ],
      "execution_count": null,
      "outputs": []
    },
    {
      "cell_type": "markdown",
      "metadata": {},
      "source": [
        "### How to assign colors?\n",
        "\n",
        "::: callout-important\n",
        "To build an intuition behind each classification algorithm more easily, we create a helper method (`plot_classi`) that generates a visualisation of a given classification.\n",
        ":::"
      ]
    },
    {
      "cell_type": "code",
      "metadata": {},
      "source": [
        "def plot_classi(classi, col, db):\n",
        "    \"\"\"\n",
        "    Illustrate a classiffication\n",
        "    ...\n",
        "    \n",
        "    Arguments\n",
        "    ---------\n",
        "    classi : mapclassify.classifiers\n",
        "             Classification object\n",
        "    col    : str\n",
        "             Column name used for `classi`\n",
        "    db     : geopandas.GeoDataFrame\n",
        "             Geo-table with data for\n",
        "             the classification    \n",
        "    \"\"\"\n",
        "    f, ax = plt.subplots(figsize=(12, 6))\n",
        "    ax.set_title(classi.name)\n",
        "    # KDE\n",
        "    sns.kdeplot(\n",
        "        db[col], fill=True, ax=ax\n",
        "    )\n",
        "    for i in range(0, len(classi.bins)-1):\n",
        "        ax.axvline(classi.bins[i], color=\"red\")\n",
        "    # Map\n",
        "    aux = f.add_axes([.6, .45, .32, .4])\n",
        "    db.assign(lbls=classi.yb).plot(\n",
        "        \"lbls\", cmap=\"viridis\", ax=aux\n",
        "    )\n",
        "    aux.set_axis_off()\n",
        "    plt.show()\n",
        "    return None"
      ],
      "execution_count": null,
      "outputs": []
    },
    {
      "cell_type": "markdown",
      "metadata": {},
      "source": [
        "-   Equal intervals"
      ]
    },
    {
      "cell_type": "code",
      "metadata": {},
      "source": [
        "classi = mc.EqualInterval(db[\"no2_viz\"], k=7)\n",
        "classi"
      ],
      "execution_count": null,
      "outputs": []
    },
    {
      "cell_type": "code",
      "metadata": {},
      "source": [
        "plot_classi(classi, \"no2_viz\", db)"
      ],
      "execution_count": null,
      "outputs": []
    },
    {
      "cell_type": "markdown",
      "metadata": {},
      "source": [
        "-   Quantiles"
      ]
    },
    {
      "cell_type": "code",
      "metadata": {},
      "source": [
        "classi = mc.Quantiles(db[\"no2_viz\"], k=7)\n",
        "classi"
      ],
      "execution_count": null,
      "outputs": []
    },
    {
      "cell_type": "code",
      "metadata": {},
      "source": [
        "plot_classi(classi, \"no2_viz\", db)"
      ],
      "execution_count": null,
      "outputs": []
    },
    {
      "cell_type": "markdown",
      "metadata": {},
      "source": [
        "-   Fisher-Jenks"
      ]
    },
    {
      "cell_type": "code",
      "metadata": {},
      "source": [
        "classi = mc.FisherJenks(db[\"no2_viz\"], k=7)\n",
        "classi"
      ],
      "execution_count": null,
      "outputs": []
    },
    {
      "cell_type": "code",
      "metadata": {},
      "source": [
        "plot_classi(classi, \"no2_viz\", db)"
      ],
      "execution_count": null,
      "outputs": []
    },
    {
      "cell_type": "markdown",
      "metadata": {},
      "source": [
        "------------------------------------------------------------------------\n",
        "\n",
        "Now let's dig into the internals of `classi`:"
      ]
    },
    {
      "cell_type": "code",
      "metadata": {},
      "source": [
        "classi"
      ],
      "execution_count": null,
      "outputs": []
    },
    {
      "cell_type": "code",
      "metadata": {},
      "source": [
        "classi.k"
      ],
      "execution_count": null,
      "outputs": []
    },
    {
      "cell_type": "code",
      "metadata": {},
      "source": [
        "classi.bins"
      ],
      "execution_count": null,
      "outputs": []
    },
    {
      "cell_type": "code",
      "metadata": {},
      "source": [
        "classi.yb"
      ],
      "execution_count": null,
      "outputs": []
    },
    {
      "cell_type": "markdown",
      "metadata": {},
      "source": [
        "### How *many* colors?\n",
        "\n",
        "The code used to generate the next figure uses more advanced features than planned for this course.\n",
        "\n",
        "If you want to inspect it, look at the code cell below."
      ]
    },
    {
      "cell_type": "code",
      "metadata": {},
      "source": [
        "vals = [3, 5, 7, 9, 12, 15]\n",
        "algos = [\"equal_interval\", \"quantiles\", \"fisherjenks\"]\n",
        "f, axs = plt.subplots(\n",
        "    len(algos), len(vals), figsize=(3*len(vals), 3*len(algos))\n",
        ")\n",
        "for i in range(len(algos)):\n",
        "    for j in range(len(vals)):\n",
        "        db.plot(\n",
        "            \"no2_viz\", scheme=algos[i], k=vals[j], ax=axs[i, j]\n",
        "        )\n",
        "        axs[i, j].set_axis_off()\n",
        "        if i==0:\n",
        "            axs[i, j].set_title(f\"k={vals[j]}\")\n",
        "        if j==0:\n",
        "            axs[i, j].text(\n",
        "                -0.1, \n",
        "                0.5, \n",
        "                algos[i], \n",
        "                horizontalalignment='center',\n",
        "                verticalalignment='center', \n",
        "                transform=axs[i, j].transAxes,\n",
        "                rotation=90\n",
        "            )\n",
        "\n",
        "plt.show()"
      ],
      "execution_count": null,
      "outputs": []
    },
    {
      "cell_type": "markdown",
      "metadata": {},
      "source": [
        "### Using the *right* color\n",
        "\n",
        "For a \"safe\" choice, make sure to visit [ColorBrewer](https://colorbrewer2.org/)\n",
        "\n",
        "-   [<img src=\"./img/l04_pal_qual.png\" alt=\"Qualitative\" class=\"fragment\" style=\"width:300px;height:50px;vertical-align:middle;border:0px;\"/>](https://jiffyclub.github.io/palettable/wesanderson/#fantasticfox2_5) **Categories**, non-ordered\n",
        "-   [<img src=\"./img/l04_pal_seq.png\" alt=\"Sequential\" class=\"fragment\" style=\"width:300px;height:50px;vertical-align:middle;border:0px;\"/>](https://jiffyclub.github.io/palettable/colorbrewer/sequential/#rdpu_5) Graduated, **sequential**\n",
        "-   [<img src=\"./img/l04_pal_div.png\" alt=\"Divergent\" class=\"fragment\" style=\"width:300px;height:50px;vertical-align:middle;border:0px;\"/>](https://jiffyclub.github.io/palettable/colorbrewer/diverging/#rdylgn_5) Graduated, **divergent**\n",
        "\n",
        "### Choropleths on Geo-Tables\n",
        "\n",
        "#### Streamlined\n",
        "\n",
        "How can we create classifications from data on geo-tables? Two ways:\n",
        "\n",
        "-   Directly within `plot` (only for some algorithms)"
      ]
    },
    {
      "cell_type": "code",
      "metadata": {},
      "source": [
        "fig, ax = plt.subplots()\n",
        "db.plot(\n",
        "    \"no2_viz\", scheme=\"quantiles\", k=7, legend=True, ax=ax\n",
        ")\n",
        "plt.show()"
      ],
      "execution_count": null,
      "outputs": []
    },
    {
      "cell_type": "markdown",
      "metadata": {},
      "source": [
        "See [this tutorial](https://pysal.org/mapclassify/notebooks/03_choropleth.html) for more details on fine tuning choropleths manually.\n",
        "\n",
        "::: callout-note\n",
        "**Challenge:** Create an equal interval map with five bins for `no2_viz` .\n",
        ":::\n",
        "\n",
        "#### Manual approach\n",
        "\n",
        "This is valid for any algorithm and provides much more flexibility at the cost of effort."
      ]
    },
    {
      "cell_type": "code",
      "metadata": {},
      "source": [
        "classi = mc.Quantiles(db[\"no2_viz\"], k=7)\n",
        "\n",
        "fig, ax = plt.subplots()\n",
        "db.assign(\n",
        "    classes=classi.yb\n",
        ").plot(\"classes\", ax=ax)\n",
        "\n",
        "plt.show()"
      ],
      "execution_count": null,
      "outputs": []
    },
    {
      "cell_type": "markdown",
      "metadata": {},
      "source": [
        "#### Value by alpha mapping"
      ]
    },
    {
      "cell_type": "code",
      "metadata": {},
      "source": [
        "db['area_inv'] = 1 / db.to_crs(epsg=5726).area"
      ],
      "execution_count": null,
      "outputs": []
    },
    {
      "cell_type": "code",
      "metadata": {},
      "source": [
        "fig, ax = plt.subplots()\n",
        "db.plot('area_inv', scheme='quantiles', ax=ax)\n",
        "ax.set_title('area_inv')\n",
        "ax.set_axis_off()\n",
        "\n",
        "plt.show()"
      ],
      "execution_count": null,
      "outputs": []
    },
    {
      "cell_type": "code",
      "metadata": {},
      "source": [
        "# Set up figure and axis\n",
        "fig, ax = plt.subplots(1, figsize=(12, 9))\n",
        "# VBA choropleth\n",
        "vba_choropleth(\n",
        "    'no2_viz',          # Column for color \n",
        "    'area_inv',         # Column for transparency (alpha)\n",
        "    db,                 # Geo-table\n",
        "    rgb_mapclassify={   # Options for color classification\n",
        "        'classifier': 'quantiles', 'k':5\n",
        "    },\n",
        "    alpha_mapclassify={ # Options for alpha classification\n",
        "        'classifier': 'quantiles', 'k':5\n",
        "    },\n",
        "    legend=True,        # Add legend\n",
        "    ax=ax               # Axis\n",
        ")\n",
        "# Add boundary lines\n",
        "db.plot(color='none', linewidth=0.05, ax=ax)\n",
        "\n",
        "plt.show()"
      ],
      "execution_count": null,
      "outputs": []
    },
    {
      "cell_type": "markdown",
      "metadata": {},
      "source": [
        "See [here](https://github.com/pysal/splot/blob/main/notebooks/mapping_vba.ipynb) for more examples of value-by-alpha (VBA) mapping.\n",
        "\n",
        "#### Legendgrams\n",
        "\n",
        "Legendgrams are a way to more closely connect the statistical characteristics of your data to the map display.\n",
        "\n",
        "::: callout-warning\n",
        "Legendgram are in an *experimental* development stage, so the code is a bit more involved and less stable. Use at your own risk!\n",
        ":::\n",
        "\n",
        "Here is an example:"
      ]
    },
    {
      "cell_type": "code",
      "metadata": {},
      "source": [
        "fig, ax = plt.subplots(figsize=(9, 9))\n",
        "\n",
        "classi = mc.Quantiles(db[\"no2_viz\"], k=7)\n",
        "\n",
        "db.assign(\n",
        "    classes=classi.yb\n",
        ").plot(\"classes\", ax=ax)\n",
        "\n",
        "legendgram(\n",
        "    fig,                   # Figure object\n",
        "    ax,                  # Axis object of the map\n",
        "    db[\"no2_viz\"],       # Values for the histogram\n",
        "    classi.bins,         # Bin boundaries\n",
        "    pal=palmpl.Viridis_7,# color palette (as palettable object)\n",
        "    legend_size=(.5,.2), # legend size in fractions of the axis\n",
        "    loc = 'lower right', # matplotlib-style legend locations\n",
        ")\n",
        "ax.set_axis_off()\n",
        "\n",
        "plt.show()"
      ],
      "execution_count": null,
      "outputs": []
    },
    {
      "cell_type": "markdown",
      "metadata": {},
      "source": [
        "::: callout-note\n",
        "**Challenge:** Give [Task I and II](https://pietrostefani.github.io/gds/mapvectorDIY.html) from the GDS course a go.\n",
        ":::\n",
        "\n",
        "### Choropleths on surfaces\n",
        "\n",
        "Assuming you have the file locally on the path `../data/`:"
      ]
    },
    {
      "cell_type": "code",
      "metadata": {},
      "source": [
        "grid = xarray.open_rasterio(\n",
        "    \"../data/cambodia_s5_no2.tif\"\n",
        ").sel(band=1)"
      ],
      "execution_count": null,
      "outputs": []
    },
    {
      "cell_type": "code",
      "metadata": {},
      "source": [
        "grid = rioxarray.open_rasterio(\"../data/cambodia_s5_no2.tif\").sel(band=1)"
      ],
      "execution_count": null,
      "outputs": []
    },
    {
      "cell_type": "markdown",
      "metadata": {},
      "source": [
        "-   Implicit continuous equal interval"
      ]
    },
    {
      "cell_type": "code",
      "metadata": {},
      "source": [
        "fig, ax = plt.subplots()\n",
        "\n",
        "grid.where(\n",
        "    grid != grid.rio.nodata\n",
        ").plot(cmap=\"viridis\", ax=ax)\n",
        "\n",
        "plt.show()"
      ],
      "execution_count": null,
      "outputs": []
    },
    {
      "cell_type": "code",
      "metadata": {},
      "source": [
        "fig, ax = plt.subplots()\n",
        "\n",
        "grid.where(\n",
        "    grid != grid.rio.nodata\n",
        ").plot(cmap=\"viridis\", robust=True, ax=ax)\n",
        "\n",
        "plt.show()"
      ],
      "execution_count": null,
      "outputs": []
    },
    {
      "cell_type": "markdown",
      "metadata": {},
      "source": [
        "-   Discrete equal interval"
      ]
    },
    {
      "cell_type": "code",
      "metadata": {},
      "source": [
        "fig, ax = plt.subplots()\n",
        "\n",
        "grid.where(\n",
        "    grid != grid.rio.nodata\n",
        ").plot(cmap=\"viridis\", levels=7, ax=ax)\n",
        "\n",
        "plt.show()"
      ],
      "execution_count": null,
      "outputs": []
    },
    {
      "cell_type": "markdown",
      "metadata": {},
      "source": [
        "-   Combining with `mapclassify`"
      ]
    },
    {
      "cell_type": "code",
      "metadata": {},
      "source": [
        "grid_nona = grid.where(\n",
        "    grid != grid.rio.nodata\n",
        ")\n",
        "\n",
        "classi = mc.Quantiles(\n",
        "    grid_nona.to_series().dropna(), k=7\n",
        ")\n",
        "\n",
        "fig, ax = plt.subplots()\n",
        "\n",
        "grid_nona.plot(\n",
        "    cmap=\"viridis\", levels=classi.bins, ax=ax\n",
        ")\n",
        "plt.title(classi.name)\n",
        "\n",
        "plt.show()"
      ],
      "execution_count": null,
      "outputs": []
    },
    {
      "cell_type": "code",
      "metadata": {},
      "source": [
        "grid_nona = grid.where(\n",
        "    grid != grid.rio.nodata\n",
        ")\n",
        "\n",
        "classi = mc.FisherJenksSampled(\n",
        "    grid_nona.to_series().dropna().values, k=7\n",
        ")\n",
        "\n",
        "fig, ax = plt.subplots()\n",
        "\n",
        "grid_nona.plot(\n",
        "    cmap=\"viridis\", levels=classi.bins, ax=ax\n",
        ")\n",
        "plt.title(classi.name)\n",
        "\n",
        "plt.show()"
      ],
      "execution_count": null,
      "outputs": []
    },
    {
      "cell_type": "code",
      "metadata": {},
      "source": [
        "fig, ax = plt.subplots()\n",
        "\n",
        "grid_nona = grid.where(\n",
        "    grid != grid.rio.nodata\n",
        ")\n",
        "\n",
        "classi = mc.StdMean(\n",
        "    grid_nona.to_series().dropna().values\n",
        ")\n",
        "\n",
        "grid_nona.plot(\n",
        "    cmap=\"coolwarm\", levels=classi.bins, ax=ax\n",
        ")\n",
        "plt.title(classi.name)\n",
        "\n",
        "plt.show()"
      ],
      "execution_count": null,
      "outputs": []
    },
    {
      "cell_type": "code",
      "metadata": {},
      "source": [
        "grid_nona = grid.where(\n",
        "    grid != grid.rio.nodata\n",
        ")\n",
        "\n",
        "classi = mc.BoxPlot(\n",
        "    grid_nona.to_series().dropna().values\n",
        ")\n",
        "\n",
        "fig, ax = plt.subplots()\n",
        "\n",
        "grid_nona.plot(\n",
        "    cmap=\"coolwarm\", levels=classi.bins, ax=ax\n",
        ")\n",
        "plt.title(classi.name)\n",
        "\n",
        "plt.show()"
      ],
      "execution_count": null,
      "outputs": []
    },
    {
      "cell_type": "markdown",
      "metadata": {},
      "source": [
        "::: callout-note\n",
        "**Challenge:** Read the satellite image for Madrid used in the @sec-spatial-data and create three choropleths, one for each band, using the colormaps`Reds`, `Greens`, `Blues`.\n",
        "\n",
        "Play with different classification algorithms.\n",
        "\n",
        "-   *Do the results change notably?*\n",
        "-   *If so, why do you think that is?*\n",
        ":::\n",
        "\n",
        "## Next steps\n",
        "\n",
        "If you are interested in statistical maps based on classification, here are two recommendations to check out next:\n",
        "\n",
        "-   On the technical side, the [documentation for `mapclassify`](https://pysal.org/mapclassify/) (including its [tutorials](https://pysal.org/mapclassify/tutorial.html)) provides more detail and illustrates more classification algorithms than those reviewed in this block.\n",
        "-   On a more conceptual note, Cynthia Brewer's \"Designing better maps\" [@brewer2015designing] is an excellent blueprint for good map making."
      ]
    }
  ],
  "metadata": {
    "kernelspec": {
      "name": "python3",
      "language": "python",
      "display_name": "Python 3 (ipykernel)",
      "path": "/Users/carmen/anaconda3/envs/geo-env-new/share/jupyter/kernels/python3"
    }
  },
  "nbformat": 4,
  "nbformat_minor": 4
}