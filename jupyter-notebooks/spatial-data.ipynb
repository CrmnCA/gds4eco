{
  "cells": [
    {
      "cell_type": "markdown",
      "metadata": {},
      "source": [
        "---\n",
        "format:\n",
        "  html:\n",
        "    code-fold: false\n",
        "jupyter: python3\n",
        "---\n",
        "\n",
        "# Spatial data {#sec-spatial-data}\n",
        "\n",
        "This block is all about understanding spatial data, both conceptually and practically. Before your fingers get on the keyboard, the following readings will help you get going and familiar with core ideas:\n",
        "\n",
        "-   [Chapter 1](https://geographicdata.science/book/notebooks/01_geo_thinking.html) of the GDS Book [@reyABwolf], which provides a conceptual overview of representing Geography in data.\n",
        "\n",
        "-   [Chapter 3](https://geographicdata.science/book/notebooks/03_spatial_data.html) of the GDS Book [@reyABwolf], a sister chapter with a more applied perspective on how concepts are implemented in computer data structures.\n",
        "\n",
        "Additionally, parts of this block are based and sourced from Chapters 2, 3 and 4 from the on-line course \"A course in Geographic Data Science\", by Dr Elisabetta Pietrostefani and Dr Carmen Cabrera-Arnau [@courseGDS-pietrostefani-cabrera]. This course also provides code in R.\n",
        "\n",
        "## Packages and modules"
      ]
    },
    {
      "cell_type": "code",
      "metadata": {},
      "source": [
        "import pandas\n",
        "import geopandas\n",
        "import xarray, rioxarray\n",
        "import contextily\n",
        "import matplotlib.pyplot as plt"
      ],
      "execution_count": null,
      "outputs": []
    },
    {
      "cell_type": "markdown",
      "metadata": {},
      "source": [
        "## Data\n",
        "\n",
        "If you want to read more about the data sources behind this dataset, head to the [Datasets](./data/datasets) section.\n",
        "\n",
        "### Points\n",
        "\n",
        "Assuming you have the file locally on the path `../data/`:"
      ]
    },
    {
      "cell_type": "code",
      "metadata": {},
      "source": [
        "pts = geopandas.read_file(\"../data/madrid_abb.gpkg\")"
      ],
      "execution_count": null,
      "outputs": []
    },
    {
      "cell_type": "markdown",
      "metadata": {},
      "source": [
        "::: callout-note\n",
        "Sometimes, points are provided as separate columns in an otherwise non-spatial table. For example imagine we have an object `cols` with a column named `X` for longitude and `Y` for latitude. Then, we can convert those into proper geometries by running `pts = geopandas.GeoSeries( geopandas.points_from_xy(cols[\"X\"], cols[\"Y\"])`.\n",
        ":::\n",
        "\n",
        "Let's explore the points dataset that we loaded above."
      ]
    },
    {
      "cell_type": "code",
      "metadata": {},
      "source": [
        "pts.info()"
      ],
      "execution_count": null,
      "outputs": []
    },
    {
      "cell_type": "code",
      "metadata": {},
      "source": [
        "pts.head()"
      ],
      "execution_count": null,
      "outputs": []
    },
    {
      "cell_type": "markdown",
      "metadata": {},
      "source": [
        "### Lines\n",
        "\n",
        "Assuming you have the file locally on the path `../data/`:"
      ]
    },
    {
      "cell_type": "code",
      "metadata": {},
      "source": [
        "lines = geopandas.read_file(\"../data/arturo_streets.gpkg\")"
      ],
      "execution_count": null,
      "outputs": []
    },
    {
      "cell_type": "code",
      "metadata": {},
      "source": [
        "lines.info()"
      ],
      "execution_count": null,
      "outputs": []
    },
    {
      "cell_type": "code",
      "metadata": {},
      "source": [
        "lines.loc[0, \"geometry\"]"
      ],
      "execution_count": null,
      "outputs": []
    },
    {
      "cell_type": "markdown",
      "metadata": {},
      "source": [
        "::: callout-note\n",
        "**Challenge:** Print descriptive statistics for `population_density` and `average_quality`.\n",
        ":::\n",
        "\n",
        "### Polygons\n",
        "\n",
        "Assuming you have the file locally on the path `../data/`:"
      ]
    },
    {
      "cell_type": "code",
      "metadata": {},
      "source": [
        "polys = geopandas.read_file(\"../data/neighbourhoods.geojson\")"
      ],
      "execution_count": null,
      "outputs": []
    },
    {
      "cell_type": "code",
      "metadata": {},
      "source": [
        "polys.head()"
      ],
      "execution_count": null,
      "outputs": []
    },
    {
      "cell_type": "code",
      "metadata": {},
      "source": [
        "polys.query(\"neighbourhood_group == 'Retiro'\")"
      ],
      "execution_count": null,
      "outputs": []
    },
    {
      "cell_type": "code",
      "metadata": {},
      "source": [
        "polys.neighbourhood_group.unique()"
      ],
      "execution_count": null,
      "outputs": []
    },
    {
      "cell_type": "markdown",
      "metadata": {},
      "source": [
        "## Surfaces\n",
        "\n",
        "Assuming you have the file locally on the path `../data/`:"
      ]
    },
    {
      "cell_type": "code",
      "metadata": {},
      "source": [
        "sat = rioxarray.open_rasterio(\"../data/madrid_scene_s2_10_tc.tif\")"
      ],
      "execution_count": null,
      "outputs": []
    },
    {
      "cell_type": "code",
      "metadata": {},
      "source": [
        "sat"
      ],
      "execution_count": null,
      "outputs": []
    },
    {
      "cell_type": "code",
      "metadata": {},
      "source": [
        "sat.sel(band=1)"
      ],
      "execution_count": null,
      "outputs": []
    },
    {
      "cell_type": "code",
      "metadata": {},
      "source": [
        "sat.sel(\n",
        "    x=slice(430000, 440000),  # x is ascending\n",
        "    y=slice(4480000, 4470000) # y is descending\n",
        ")"
      ],
      "execution_count": null,
      "outputs": []
    },
    {
      "cell_type": "markdown",
      "metadata": {},
      "source": [
        "::: callout-note\n",
        "**Challenge:** Subset `sat` to band 2 and the section within \\[444444, 455555\\] of Easting and \\[4470000, 4480000\\] of Northing.\n",
        "\n",
        "-   *How many pixels does it contain?*\n",
        "\n",
        "-   *What if you used bands 1 and 3 instead?*\n",
        ":::\n",
        "\n",
        "## Visualisation\n",
        "\n",
        "You will need version 0.10.0 or greater of `geopandas` to use `explore`."
      ]
    },
    {
      "cell_type": "code",
      "metadata": {},
      "source": [
        "polys.explore()"
      ],
      "execution_count": null,
      "outputs": []
    },
    {
      "cell_type": "code",
      "metadata": {},
      "source": [
        "fig, ax = plt.subplots()\n",
        "polys.plot(ax=ax)\n",
        "plt.show()"
      ],
      "execution_count": null,
      "outputs": []
    },
    {
      "cell_type": "code",
      "metadata": {},
      "source": [
        "fig, ax = plt.subplots()\n",
        "lines.plot(linewidth=0.1, color=\"black\", ax=ax)\n",
        "#contextily.add_basemap(ax, crs=lines.crs)\n",
        "plt.show()"
      ],
      "execution_count": null,
      "outputs": []
    },
    {
      "cell_type": "markdown",
      "metadata": {},
      "source": [
        "See more basemap options [here](https://contextily.readthedocs.io/en/latest/providers_deepdive.html)."
      ]
    },
    {
      "cell_type": "code",
      "metadata": {},
      "source": [
        "fig, ax = plt.subplots()\n",
        "pts.plot(color=\"red\", figsize=(12, 12), markersize=0.1, ax=ax)\n",
        "contextily.add_basemap(\n",
        "    ax,\n",
        "    crs = pts.crs,\n",
        "    source = contextily.providers.CartoDB.DarkMatter\n",
        ")\n",
        "plt.show()"
      ],
      "execution_count": null,
      "outputs": []
    },
    {
      "cell_type": "code",
      "metadata": {},
      "source": [
        "sat.plot.imshow(figsize=(12, 12))\n",
        "plt.show()"
      ],
      "execution_count": null,
      "outputs": []
    },
    {
      "cell_type": "code",
      "metadata": {},
      "source": [
        "fig, ax = plt.subplots(figsize=(10, 10))\n",
        "sat.plot.imshow(ax=ax)\n",
        "contextily.add_basemap(\n",
        "    ax,\n",
        "    crs=sat.rio.crs,\n",
        "    source=contextily.providers.CartoDB.VoyagerOnlyLabels,\n",
        "    zoom=11,\n",
        ")\n",
        "plt.show()"
      ],
      "execution_count": null,
      "outputs": []
    },
    {
      "cell_type": "markdown",
      "metadata": {},
      "source": [
        "::: callout-note\n",
        "**Challenge:** Make three plots of `sat`, plotting one single band in each.\n",
        ":::\n",
        "\n",
        "## Spatial operations\n",
        "\n",
        "### (Re-)Projections"
      ]
    },
    {
      "cell_type": "code",
      "metadata": {},
      "source": [
        "pts.crs"
      ],
      "execution_count": null,
      "outputs": []
    },
    {
      "cell_type": "code",
      "metadata": {},
      "source": [
        "sat.rio.crs"
      ],
      "execution_count": null,
      "outputs": []
    },
    {
      "cell_type": "code",
      "metadata": {},
      "source": [
        "pts.to_crs(sat.rio.crs).crs"
      ],
      "execution_count": null,
      "outputs": []
    },
    {
      "cell_type": "code",
      "metadata": {},
      "source": [
        "sat.rio.reproject(pts.crs).rio.crs"
      ],
      "execution_count": null,
      "outputs": []
    },
    {
      "cell_type": "code",
      "metadata": {},
      "source": [
        "# All into Web Mercator (EPSG:3857)\n",
        "fig, ax = plt.subplots(1, figsize=(12, 12))\n",
        "\n",
        "## Satellite image\n",
        "sat.rio.reproject(\n",
        "    \"EPSG:3857\"\n",
        ").plot.imshow(\n",
        "    ax=ax\n",
        ")\n",
        "\n",
        "## Neighbourhoods\n",
        "polys.to_crs(epsg=3857).plot(\n",
        "    linewidth=1, \n",
        "    edgecolor=\"xkcd:lime\", \n",
        "    facecolor=\"none\",\n",
        "    ax=ax\n",
        ")\n",
        "\n",
        "## Labels\n",
        "contextily.add_basemap( # No need to reproject\n",
        "    ax,\n",
        "    source=contextily.providers.CartoDB.VoyagerOnlyLabels,\n",
        ")\n",
        "\n",
        "plt.show()"
      ],
      "execution_count": null,
      "outputs": []
    },
    {
      "cell_type": "markdown",
      "metadata": {},
      "source": [
        "### Centroids\n",
        "\n",
        "Note the warning that geometric operations with non-projected CRS object result in biases."
      ]
    },
    {
      "cell_type": "code",
      "metadata": {},
      "source": [
        "polys.centroid"
      ],
      "execution_count": null,
      "outputs": []
    },
    {
      "cell_type": "markdown",
      "metadata": {},
      "source": [
        "It is therefore important to re-project these geometries to a projected crs such as we did with with `pts` before."
      ]
    },
    {
      "cell_type": "code",
      "metadata": {},
      "source": [
        "polys = polys.to_crs(sat.rio.crs)"
      ],
      "execution_count": null,
      "outputs": []
    },
    {
      "cell_type": "markdown",
      "metadata": {},
      "source": [
        "Now, we can compute centroids without warnings:"
      ]
    },
    {
      "cell_type": "code",
      "metadata": {},
      "source": [
        "polys.centroid"
      ],
      "execution_count": null,
      "outputs": []
    },
    {
      "cell_type": "code",
      "metadata": {},
      "source": [
        "fig, ax = plt.subplots()\n",
        "polys.plot(color=\"purple\", ax=ax)\n",
        "polys.centroid.plot(\n",
        "    ax=ax, color=\"lime\", markersize=1\n",
        ")\n",
        "\n",
        "plt.show()"
      ],
      "execution_count": null,
      "outputs": []
    },
    {
      "cell_type": "markdown",
      "metadata": {},
      "source": [
        "### Spatial joins\n",
        "\n",
        "More information about spatial joins in `geopandas` is available on its [documentation page](https://geopandas.org/mergingdata.html#spatial-joins).\n",
        "\n",
        "Let's ensure that the geometries we are looking to join are in the same projection."
      ]
    },
    {
      "cell_type": "code",
      "metadata": {},
      "source": [
        "lines = lines.to_crs(polys.crs)"
      ],
      "execution_count": null,
      "outputs": []
    },
    {
      "cell_type": "code",
      "metadata": {},
      "source": [
        "sj = geopandas.sjoin(\n",
        "    lines,\n",
        "    polys\n",
        ")"
      ],
      "execution_count": null,
      "outputs": []
    },
    {
      "cell_type": "code",
      "metadata": {},
      "source": [
        "sj.info()"
      ],
      "execution_count": null,
      "outputs": []
    },
    {
      "cell_type": "code",
      "metadata": {},
      "source": [
        "fig, ax = plt.subplots()\n",
        "\n",
        "# Subset of lines\n",
        "sj.query(\n",
        "    \"neighbourhood == 'Jerónimos'\"\n",
        ").plot(color=\"xkcd:bright turquoise\", ax=ax)\n",
        "\n",
        "# Subset of line centroids\n",
        "sj.query(\n",
        "    \"neighbourhood == 'Jerónimos'\"\n",
        ").centroid.plot(\n",
        "    color=\"xkcd:bright violet\", markersize=7, ax=ax\n",
        ")\n",
        "\n",
        "# Local basemap\n",
        "contextily.add_basemap(\n",
        "    ax,\n",
        "    crs=sj.crs,\n",
        "    source=\"../data/madrid_scene_s2_10_tc.tif\",\n",
        "    alpha=0.5\n",
        ")\n",
        "\n",
        "plt.show()"
      ],
      "execution_count": null,
      "outputs": []
    },
    {
      "cell_type": "code",
      "metadata": {},
      "source": [
        "sj.info()"
      ],
      "execution_count": null,
      "outputs": []
    },
    {
      "cell_type": "markdown",
      "metadata": {},
      "source": [
        "### Areas\n",
        "\n",
        "To compute areas of polygons, use a projected crs (we already transformed `polys` to the same projection as `sat`, which is a projected crs)."
      ]
    },
    {
      "cell_type": "code",
      "metadata": {},
      "source": [
        "areas = polys.area * 1e-6 # Km2\n",
        "areas.head()"
      ],
      "execution_count": null,
      "outputs": []
    },
    {
      "cell_type": "markdown",
      "metadata": {},
      "source": [
        "### Distances\n",
        "\n",
        "We can give `geopandas.tools.geocode()` a string or a set of strings corresponding to addresses. It will geocode it and return a `GeoDataFrame` of the resulting point geometries"
      ]
    },
    {
      "cell_type": "code",
      "metadata": {},
      "source": [
        "cemfi = geopandas.tools.geocode(\n",
        "    \"Calle Casado del Alisal, 5, Madrid\"\n",
        ").to_crs(sat.rio.crs)"
      ],
      "execution_count": null,
      "outputs": []
    },
    {
      "cell_type": "code",
      "metadata": {},
      "source": [
        "cemfi"
      ],
      "execution_count": null,
      "outputs": []
    },
    {
      "cell_type": "markdown",
      "metadata": {},
      "source": [
        "We can compute the distance between the point for `cemfi` and the centroids of all the polygons in `polys` ensuring they both are in the same crs:"
      ]
    },
    {
      "cell_type": "code",
      "metadata": {},
      "source": [
        "polys.to_crs(\n",
        "    cemfi.crs\n",
        ").distance(\n",
        "    cemfi.geometry\n",
        ")"
      ],
      "execution_count": null,
      "outputs": []
    },
    {
      "cell_type": "code",
      "metadata": {},
      "source": [
        "d2cemfi = polys.to_crs(\n",
        "    cemfi.crs\n",
        ").distance(\n",
        "    cemfi.geometry[0] # NO index\n",
        ")\n",
        "d2cemfi.head()"
      ],
      "execution_count": null,
      "outputs": []
    },
    {
      "cell_type": "markdown",
      "metadata": {},
      "source": [
        "Make a map, colouring the polygons according the the distance of their centroid to `cemfi`:"
      ]
    },
    {
      "cell_type": "code",
      "metadata": {},
      "source": [
        "fig, ax = plt.subplots()\n",
        "\n",
        "polys.assign(\n",
        "    dist=d2cemfi/1000\n",
        ").plot(\"dist\", legend=True, ax=ax)\n",
        "\n",
        "cemfi.to_crs(\n",
        "    polys.crs\n",
        ").plot(\n",
        "    marker=\"*\", \n",
        "    markersize=15, \n",
        "    color=\"r\", \n",
        "    label=\"CEMFI\", \n",
        "    ax=ax\n",
        ")\n",
        "\n",
        "ax.legend()\n",
        "ax.set_title(\n",
        "    \"Distance to CEMFI\"\n",
        ")\n",
        "\n",
        "plt.show()"
      ],
      "execution_count": null,
      "outputs": []
    },
    {
      "cell_type": "markdown",
      "metadata": {},
      "source": [
        "## Next steps\n",
        "\n",
        "If you are interested in following up on some of the topics explored in this block, the following pointers might be useful:\n",
        "\n",
        "-   Although we have seen here `geopandas` only, all non-geographic operations on geo-tables are really thanks to `pandas`, the workhorse for tabular data in Python. Their [official documentation](https://pandas.pydata.org/docs/) is an excellent first stop. If you prefer a book, [@McKinney2013Python] is a great one.\n",
        "-   For more detail on geographic operations on geo-tables, the [Geopandas official documentation](https://geopandas.org/) is a great place to continue the journey.\n",
        "-   Surfaces, as covered here, are really an example of multi-dimensional labelled arrays. The library we use, `xarray` represents the cutting edge for working with these data structures in Python, and [their documentation](https://xarray.pydata.org/) is a great place to wrap your head around how data of this type can be manipulated. For geographic extensions (CRS handling, reprojections, etc.), we have used `rioxarray` under the hood, and [its documentation](https://corteva.github.io/rioxarray/) is also well worth checking."
      ]
    }
  ],
  "metadata": {
    "kernelspec": {
      "name": "python3",
      "language": "python",
      "display_name": "Python 3 (ipykernel)",
      "path": "/Users/carmen/anaconda3/envs/geo-env-new/share/jupyter/kernels/python3"
    }
  },
  "nbformat": 4,
  "nbformat_minor": 4
}