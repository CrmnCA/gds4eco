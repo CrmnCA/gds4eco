{
  "cells": [
    {
      "cell_type": "markdown",
      "metadata": {},
      "source": [
        "---\n",
        "format:\n",
        "  html:\n",
        "    code-fold: false\n",
        "jupyter: python3\n",
        "---\n",
        "\n",
        "\n",
        "\n",
        "\n",
        "\n",
        "\n",
        "\n",
        "\n",
        "\n",
        "\n",
        "This block is all about understanding spatial data, both conceptually and practically. Before your fingers get on the keyboard, the following readings will help you get going and familiar with core ideas:\n",
        "\n",
        "-   [Chapter 1](https://geographicdata.science/book/notebooks/01_geo_thinking.html) of the GDS Book {cite}`reyABwolf`, which provides a conceptual overview of representing Geography in data.\n",
        "\n",
        "-   [Chapter 3](https://geographicdata.science/book/notebooks/03_spatial_data.html) of the GDS Book {cite}`reyABwolf`, a sister chapter with a more applied perspective on how concepts are implemented in computer data structures.\n",
        "\n",
        "Additionally, parts of this block are based and source from [Block C](https://darribas.org/gds_course/content/bC/lab_C.html) in the GDS Course {cite}`darribas_gds_course`.\n",
        "\n",
        "# Hands-on coding\n",
        "\n",
        "## (Geographic) tables\n"
      ],
      "id": "0eb5a015"
    },
    {
      "cell_type": "code",
      "metadata": {},
      "source": [
        "import pandas\n",
        "import geopandas\n",
        "import xarray, rioxarray\n",
        "import contextily\n",
        "import matplotlib.pyplot as plt"
      ],
      "id": "9578ff32",
      "execution_count": null,
      "outputs": []
    },
    {
      "cell_type": "markdown",
      "metadata": {},
      "source": [
        "### Points\n",
        "\n",
        "Data If you want to read more about the data sources behind this dataset, head to the [Datasets](./data/datasets) section.\n",
        "\n",
        "Assuming you have the file locally on the path `./data/`:\n"
      ],
      "id": "d0877696"
    },
    {
      "cell_type": "code",
      "metadata": {},
      "source": [
        "pts = geopandas.read_file(\"./data/madrid_abb.gpkg\")"
      ],
      "id": "a6f87905",
      "execution_count": null,
      "outputs": []
    },
    {
      "cell_type": "markdown",
      "metadata": {},
      "source": [
        "Sometimes, points are provided as separate columns in an otherwise non-spatial table. For example imagine we have an object `cols` with a column named `X` for longitude and `Y` for latitude. Then, we can convert those into proper geometries by running:\n",
        "\n",
        "```{{python}}\n",
        "pts = geopandas.GeoSeries(\n",
        "    geopandas.points_from_xy(cols[\"X\"], cols[\"Y\"])\n",
        ")\n",
        "```\n"
      ],
      "id": "3386376d"
    },
    {
      "cell_type": "code",
      "metadata": {},
      "source": [
        "pts.info()"
      ],
      "id": "7222cde9",
      "execution_count": null,
      "outputs": []
    },
    {
      "cell_type": "code",
      "metadata": {},
      "source": [
        "pts.head()"
      ],
      "id": "67d4275e",
      "execution_count": null,
      "outputs": []
    },
    {
      "cell_type": "markdown",
      "metadata": {},
      "source": [
        "#### Lines\n",
        "\n",
        "Assuming you have the file locally on the path `./data/`: \n"
      ],
      "id": "1822056e"
    },
    {
      "cell_type": "code",
      "metadata": {},
      "source": [
        "pts = geopandas.read_file(\"./data/arturo_streets.gpkg\")"
      ],
      "id": "8955be96",
      "execution_count": null,
      "outputs": []
    },
    {
      "cell_type": "code",
      "metadata": {
        "tags": [
          "remove-cell"
        ]
      },
      "source": [
        "lines = geopandas.read_file(\"./data/arturo_streets.gpkg\")"
      ],
      "id": "9840deac",
      "execution_count": null,
      "outputs": []
    },
    {
      "cell_type": "code",
      "metadata": {},
      "source": [
        "lines.info()"
      ],
      "id": "d66dbb1e",
      "execution_count": null,
      "outputs": []
    },
    {
      "cell_type": "code",
      "metadata": {},
      "source": [
        "lines.loc[0, \"geometry\"]"
      ],
      "id": "87841cf8",
      "execution_count": null,
      "outputs": []
    },
    {
      "cell_type": "markdown",
      "metadata": {},
      "source": [
        "#### Polygons\n",
        "\n",
        "\n",
        "Assuming you have the file locally on the path `./data/`: \n"
      ],
      "id": "6a81234c"
    },
    {
      "cell_type": "code",
      "metadata": {},
      "source": [
        "polys = geopandas.read_file(\"./data/neighbourhoods.geojson\")"
      ],
      "id": "09d7fcbb",
      "execution_count": null,
      "outputs": []
    },
    {
      "cell_type": "code",
      "metadata": {
        "tags": [
          "remove-cell"
        ]
      },
      "source": [
        "polys = geopandas.read_file(\"./data/neighbourhoods.geojson\")"
      ],
      "id": "74e31b8d",
      "execution_count": null,
      "outputs": []
    },
    {
      "cell_type": "code",
      "metadata": {},
      "source": [
        "polys.head()"
      ],
      "id": "46333030",
      "execution_count": null,
      "outputs": []
    },
    {
      "cell_type": "code",
      "metadata": {},
      "source": [
        "polys.query(\"neighbourhood_group == 'Retiro'\")"
      ],
      "id": "f23c8565",
      "execution_count": null,
      "outputs": []
    },
    {
      "cell_type": "code",
      "metadata": {},
      "source": [
        "polys.neighbourhood_group.unique()"
      ],
      "id": "500b8ded",
      "execution_count": null,
      "outputs": []
    },
    {
      "cell_type": "markdown",
      "metadata": {},
      "source": [
        "Assuming you have the file locally on the path `./data/`: \n"
      ],
      "id": "89f6bee5"
    },
    {
      "cell_type": "code",
      "metadata": {},
      "source": [
        "sat = xarray.open_rasterio(\"./data/madrid_scene_s2_10_tc.tif\")"
      ],
      "id": "499cbe52",
      "execution_count": null,
      "outputs": []
    },
    {
      "cell_type": "code",
      "metadata": {},
      "source": [
        "sat"
      ],
      "id": "5f11c99e",
      "execution_count": null,
      "outputs": []
    },
    {
      "cell_type": "code",
      "metadata": {},
      "source": [
        "sat.sel(band=1)"
      ],
      "id": "a6b6600d",
      "execution_count": null,
      "outputs": []
    },
    {
      "cell_type": "code",
      "metadata": {},
      "source": [
        "sat.sel(\n",
        "    x=slice(430000, 440000),  # x is ascending\n",
        "    y=slice(4480000, 4470000) # y is descending\n",
        ")"
      ],
      "id": "64516b2a",
      "execution_count": null,
      "outputs": []
    },
    {
      "cell_type": "markdown",
      "metadata": {},
      "source": [
        "### Visualisation\n",
        " IMPORTANT\n",
        "You will need version 0.10.0 or greater of `geopandas` to use `explore`. \n"
      ],
      "id": "3f41e4db"
    },
    {
      "cell_type": "code",
      "metadata": {},
      "source": [
        "polys.explore()"
      ],
      "id": "854104ed",
      "execution_count": null,
      "outputs": []
    },
    {
      "cell_type": "code",
      "metadata": {},
      "source": [
        "polys.plot()"
      ],
      "id": "f70f7d36",
      "execution_count": null,
      "outputs": []
    },
    {
      "cell_type": "code",
      "metadata": {},
      "source": [
        "ax = lines.plot(linewidth=0.1, color=\"black\")\n",
        "contextily.add_basemap(ax, crs=lines.crs)"
      ],
      "id": "f8408f0b",
      "execution_count": null,
      "outputs": []
    },
    {
      "cell_type": "markdown",
      "metadata": {},
      "source": [
        "```{margin}\n",
        "See more basemap options [here](https://contextily.readthedocs.io/en/latest/providers_deepdive.html).\n",
        "```"
      ],
      "id": "e5dbb956"
    },
    {
      "cell_type": "code",
      "metadata": {},
      "source": [
        "ax = pts.plot(color=\"red\", figsize=(12, 12), markersize=0.1)\n",
        "contextily.add_basemap(\n",
        "    ax,\n",
        "    crs = pts.crs,\n",
        "    source = contextily.providers.CartoDB.DarkMatter\n",
        ");"
      ],
      "id": "82a6c892",
      "execution_count": null,
      "outputs": []
    },
    {
      "cell_type": "code",
      "metadata": {},
      "source": [
        "sat.plot.imshow(figsize=(12, 12))"
      ],
      "id": "c7d8209e",
      "execution_count": null,
      "outputs": []
    },
    {
      "cell_type": "markdown",
      "metadata": {},
      "source": [
        "````{margin} IMPORTANT\n",
        "You will need version 1.1.0 of `contextily` to use label layers. Install it with:\n"
      ],
      "id": "6b020173"
    },
    {
      "cell_type": "code",
      "metadata": {},
      "source": [
        "f, ax = plt.subplots(1, figsize=(12, 12))\n",
        "sat.plot.imshow(ax=ax)\n",
        "contextily.add_basemap(\n",
        "    ax,\n",
        "    crs=sat.rio.crs,\n",
        "    source=contextily.providers.CartoDB.VoyagerOnlyLabels,\n",
        "    zoom=11,\n",
        ");"
      ],
      "id": "6aa9971a",
      "execution_count": null,
      "outputs": []
    },
    {
      "cell_type": "markdown",
      "metadata": {},
      "source": [
        "### Spatial operations\n",
        "\n",
        "#### (Re-)Projections"
      ],
      "id": "ced2e259"
    },
    {
      "cell_type": "code",
      "metadata": {},
      "source": [
        "pts.crs"
      ],
      "id": "9655a2a1",
      "execution_count": null,
      "outputs": []
    },
    {
      "cell_type": "code",
      "metadata": {},
      "source": [
        "sat.rio.crs"
      ],
      "id": "6fd8d156",
      "execution_count": null,
      "outputs": []
    },
    {
      "cell_type": "code",
      "metadata": {},
      "source": [
        "pts.to_crs(sat.rio.crs).crs"
      ],
      "id": "0a8c011f",
      "execution_count": null,
      "outputs": []
    },
    {
      "cell_type": "code",
      "metadata": {},
      "source": [
        "sat.rio.reproject(pts.crs).rio.crs"
      ],
      "id": "13fbb939",
      "execution_count": null,
      "outputs": []
    },
    {
      "cell_type": "code",
      "metadata": {},
      "source": [
        "# All into Web Mercator (EPSG:3857)\n",
        "f, ax = plt.subplots(1, figsize=(12, 12))\n",
        "## Satellite image\n",
        "sat.rio.reproject(\n",
        "    \"EPSG:3857\"\n",
        ").plot.imshow(\n",
        "    ax=ax\n",
        ")\n",
        "## Neighbourhoods\n",
        "polys.to_crs(epsg=3857).plot(\n",
        "    linewidth=2, \n",
        "    edgecolor=\"xkcd:lime\", \n",
        "    facecolor=\"none\",\n",
        "    ax=ax\n",
        ")\n",
        "## Labels\n",
        "contextily.add_basemap( # No need to reproject\n",
        "    ax,\n",
        "    source=contextily.providers.CartoDB.VoyagerOnlyLabels,\n",
        ");"
      ],
      "id": "f0e2bb20",
      "execution_count": null,
      "outputs": []
    },
    {
      "cell_type": "markdown",
      "metadata": {},
      "source": [
        "#### Centroids\n",
        "\n",
        "```{margin}\n",
        "Note the warning that geometric operations with non-project CRS object result in biases.\n",
        "```"
      ],
      "id": "ceb5505b"
    },
    {
      "cell_type": "code",
      "metadata": {},
      "source": [
        "polys.centroid"
      ],
      "id": "4fe2a84b",
      "execution_count": null,
      "outputs": []
    },
    {
      "cell_type": "code",
      "metadata": {},
      "source": [
        "lines.centroid"
      ],
      "id": "e6759b96",
      "execution_count": null,
      "outputs": []
    },
    {
      "cell_type": "code",
      "metadata": {},
      "source": [
        "ax = polys.plot(color=\"purple\")\n",
        "polys.centroid.plot(\n",
        "    ax=ax, color=\"lime\", markersize=1\n",
        ")"
      ],
      "id": "c28198a8",
      "execution_count": null,
      "outputs": []
    },
    {
      "cell_type": "markdown",
      "metadata": {},
      "source": [
        "#### Spatial joins\n",
        "\n",
        "```{margin}\n",
        "More information about spatial joins in `geopandas` is available on its [documentation page](https://geopandas.org/mergingdata.html#spatial-joins)\n",
        "```"
      ],
      "id": "0bcd8e3f"
    },
    {
      "cell_type": "code",
      "metadata": {},
      "source": [
        "sj = geopandas.sjoin(\n",
        "    lines,\n",
        "    polys.to_crs(lines.crs)\n",
        ")"
      ],
      "id": "433ccf80",
      "execution_count": null,
      "outputs": []
    },
    {
      "cell_type": "code",
      "metadata": {
        "tags": [
          "hide-input",
          "margin"
        ]
      },
      "source": [
        "# Subset of lines\n",
        "ax = sj.query(\n",
        "    \"neighbourhood == 'Jerónimos'\"\n",
        ").plot(color=\"xkcd:bright turquoise\")\n",
        "\n",
        "# Subset of line centroids\n",
        "ax = sj.query(\n",
        "    \"neighbourhood == 'Jerónimos'\"\n",
        ").centroid.plot(\n",
        "    color=\"xkcd:bright violet\", markersize=7, ax=ax\n",
        ")\n",
        "\n",
        "# Local basemap\n",
        "contextily.add_basemap(\n",
        "    ax,\n",
        "    crs=sj.crs,\n",
        "    source=\"./data/madrid_scene_s2_10_tc.tif\",\n",
        "    alpha=0.5\n",
        ")"
      ],
      "id": "36928000",
      "execution_count": null,
      "outputs": []
    },
    {
      "cell_type": "code",
      "metadata": {},
      "source": [
        "sj.info()"
      ],
      "id": "b4fba79e",
      "execution_count": null,
      "outputs": []
    },
    {
      "cell_type": "markdown",
      "metadata": {},
      "source": [
        "#### Areas"
      ],
      "id": "2c765583"
    },
    {
      "cell_type": "code",
      "metadata": {},
      "source": [
        "areas = polys.to_crs(\n",
        "    epsg=25830\n",
        ").area * 1e-6 # Km2\n",
        "areas.head()"
      ],
      "id": "856d466e",
      "execution_count": null,
      "outputs": []
    },
    {
      "cell_type": "markdown",
      "metadata": {},
      "source": [
        "#### Distances"
      ],
      "id": "63ed59c3"
    },
    {
      "cell_type": "code",
      "metadata": {},
      "source": [
        "cemfi = geopandas.tools.geocode(\n",
        "    \"Calle Casado del Alisal, 5, Madrid\"\n",
        ").to_crs(epsg=25830)\n",
        "cemfi"
      ],
      "id": "93bfc8b1",
      "execution_count": null,
      "outputs": []
    },
    {
      "cell_type": "code",
      "metadata": {},
      "source": [
        "polys.to_crs(\n",
        "    cemfi.crs\n",
        ").distance(\n",
        "    cemfi.geometry\n",
        ")"
      ],
      "id": "ca9605f3",
      "execution_count": null,
      "outputs": []
    },
    {
      "cell_type": "code",
      "metadata": {},
      "source": [
        "d2cemfi = polys.to_crs(\n",
        "    cemfi.crs\n",
        ").distance(\n",
        "    cemfi.geometry[0] # NO index\n",
        ")\n",
        "d2cemfi.head()"
      ],
      "id": "9e351ffb",
      "execution_count": null,
      "outputs": []
    },
    {
      "cell_type": "code",
      "metadata": {
        "tags": [
          "hide-input",
          "margin"
        ]
      },
      "source": [
        "ax = polys.assign(\n",
        "    dist=d2cemfi/1000\n",
        ").plot(\"dist\", legend=True)\n",
        "\n",
        "cemfi.to_crs(\n",
        "    polys.crs\n",
        ").plot(\n",
        "    marker=\"*\", \n",
        "    markersize=15, \n",
        "    color=\"r\", \n",
        "    label=\"CEMFI\", \n",
        "    ax=ax\n",
        ")\n",
        "\n",
        "ax.legend()\n",
        "ax.set_title(\n",
        "    \"Distance to CEMFI\"\n",
        ");"
      ],
      "id": "068ecbb7",
      "execution_count": null,
      "outputs": []
    },
    {
      "cell_type": "markdown",
      "metadata": {},
      "source": [
        "## Next steps\n",
        "\n",
        "If you are interested in following up on some of the topics explored in this block, the following pointers might be useful:\n",
        "\n",
        "-   Although we have seen here `geopandas` only, all non-geographic operations on geo-tables are really thanks to `pandas`, the workhorse for tabular data in Python. Their [official documentation](https://pandas.pydata.org/docs/) is an excellent first stop. If you prefer a book, McKinney (2012) {cite}`mckinney2012python` is a great one.\n",
        "-   For more detail on geographic operations on geo-tables, the [Geopandas official documentation](https://geopandas.org/) is a great place to continue the journey.\n",
        "-   Surfaces, as covered here, are really an example of multi-dimensional labelled arrays. The library we use, `xarray` represents the cutting edge for working with these data structures in Python, and [their documentation](https://xarray.pydata.org/) is a great place to wrap your head around how data of this type can be manipulated. For geographic extensions (CRS handling, reprojections, etc.), we have used `rioxarray` under the hood, and [its documentation](https://corteva.github.io/rioxarray/) is also well worth checking."
      ],
      "id": "078e6cb1"
    }
  ],
  "metadata": {
    "kernelspec": {
      "name": "python3",
      "language": "python",
      "display_name": "Python 3 (ipykernel)",
      "path": "/Users/carmen/anaconda3/envs/gds-test/share/jupyter/kernels/python3"
    }
  },
  "nbformat": 4,
  "nbformat_minor": 5
}